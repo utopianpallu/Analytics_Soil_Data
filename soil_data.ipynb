{
 "cells": [
  {
   "cell_type": "code",
   "execution_count": 1,
   "metadata": {},
   "outputs": [],
   "source": [
    "import pandas as pd\n",
    "import numpy as np\n",
    "import matplotlib.pyplot as plt\n",
    "import seaborn as sns"
   ]
  },
  {
   "cell_type": "code",
   "execution_count": 2,
   "metadata": {},
   "outputs": [],
   "source": [
    "data=pd.read_csv('/Users/pallavi385/Downloads/SoilS.csv')"
   ]
  },
  {
   "cell_type": "code",
   "execution_count": 3,
   "metadata": {},
   "outputs": [
    {
     "data": {
      "text/html": [
       "<div>\n",
       "<style scoped>\n",
       "    .dataframe tbody tr th:only-of-type {\n",
       "        vertical-align: middle;\n",
       "    }\n",
       "\n",
       "    .dataframe tbody tr th {\n",
       "        vertical-align: top;\n",
       "    }\n",
       "\n",
       "    .dataframe thead th {\n",
       "        text-align: right;\n",
       "    }\n",
       "</style>\n",
       "<table border=\"1\" class=\"dataframe\">\n",
       "  <thead>\n",
       "    <tr style=\"text-align: right;\">\n",
       "      <th></th>\n",
       "      <th>District</th>\n",
       "      <th>Block</th>\n",
       "      <th>Panchayath</th>\n",
       "      <th>SampleCode</th>\n",
       "      <th>FarmerName</th>\n",
       "      <th>ContactAddress</th>\n",
       "      <th>f_dateofsampling</th>\n",
       "      <th>f_sex</th>\n",
       "      <th>f_surveyno</th>\n",
       "      <th>f_latitude</th>\n",
       "      <th>...</th>\n",
       "      <th>Soil_s</th>\n",
       "      <th>Soil_Zn</th>\n",
       "      <th>Soil_b</th>\n",
       "      <th>Soil_Fe</th>\n",
       "      <th>Soil_Cu</th>\n",
       "      <th>Soil_Mn</th>\n",
       "      <th>Zinc_Method</th>\n",
       "      <th>Copper_Method</th>\n",
       "      <th>Iron_Method</th>\n",
       "      <th>Manganese_Method</th>\n",
       "    </tr>\n",
       "  </thead>\n",
       "  <tbody>\n",
       "    <tr>\n",
       "      <th>0</th>\n",
       "      <td>Thrissur</td>\n",
       "      <td>Anthikkad Block</td>\n",
       "      <td>Manaloor</td>\n",
       "      <td>TCR/TRS/MNL/215/3/182896</td>\n",
       "      <td>sunil.K.A</td>\n",
       "      <td>kunnath house\\r\\n Manaloor post</td>\n",
       "      <td>3/26/2011</td>\n",
       "      <td>male</td>\n",
       "      <td>215/3</td>\n",
       "      <td>0</td>\n",
       "      <td>...</td>\n",
       "      <td>34.40</td>\n",
       "      <td>8.09</td>\n",
       "      <td>0.59</td>\n",
       "      <td>48.20</td>\n",
       "      <td>9.45</td>\n",
       "      <td>21.32</td>\n",
       "      <td>HCl</td>\n",
       "      <td>HCl</td>\n",
       "      <td>HCl</td>\n",
       "      <td>HCl</td>\n",
       "    </tr>\n",
       "    <tr>\n",
       "      <th>1</th>\n",
       "      <td>Kottayam</td>\n",
       "      <td>Erattupetta Block</td>\n",
       "      <td>Melukavu</td>\n",
       "      <td>KTM/MNC/MLK/729/11/182897</td>\n",
       "      <td>T.M. Joseph</td>\n",
       "      <td>Valluvadikkal House\\r\\nKizhakkanmattom\\r\\n</td>\n",
       "      <td>3/18/2011</td>\n",
       "      <td>male</td>\n",
       "      <td>729/11</td>\n",
       "      <td>0</td>\n",
       "      <td>...</td>\n",
       "      <td>25.00</td>\n",
       "      <td>3.77</td>\n",
       "      <td>1.68</td>\n",
       "      <td>23.60</td>\n",
       "      <td>1.63</td>\n",
       "      <td>14.00</td>\n",
       "      <td>HCl</td>\n",
       "      <td>HCl</td>\n",
       "      <td>HCl</td>\n",
       "      <td>HCl</td>\n",
       "    </tr>\n",
       "    <tr>\n",
       "      <th>2</th>\n",
       "      <td>Kollam</td>\n",
       "      <td>Sasthamcotta Block</td>\n",
       "      <td>Kunnathur</td>\n",
       "      <td>KLM/KNT/KNT/60/6/182898</td>\n",
       "      <td>SUMANGALAAMMA</td>\n",
       "      <td>THENGANAYYATHU\\r\\nIVERKALA PADI NORTH\\r\\nPUTHA...</td>\n",
       "      <td>4/4/2011</td>\n",
       "      <td>female</td>\n",
       "      <td>60/6</td>\n",
       "      <td>0</td>\n",
       "      <td>...</td>\n",
       "      <td>0.77</td>\n",
       "      <td>6.89</td>\n",
       "      <td>0.53</td>\n",
       "      <td>2.99</td>\n",
       "      <td>0.83</td>\n",
       "      <td>6.80</td>\n",
       "      <td>HCl</td>\n",
       "      <td>HCl</td>\n",
       "      <td>HCl</td>\n",
       "      <td>HCl</td>\n",
       "    </tr>\n",
       "    <tr>\n",
       "      <th>3</th>\n",
       "      <td>Kottayam</td>\n",
       "      <td>Erattupetta Block</td>\n",
       "      <td>Melukavu</td>\n",
       "      <td>KTM/MNC/MLK/669/2/182899</td>\n",
       "      <td>P.V. Georgekutty</td>\n",
       "      <td>Paikadayil House\\r\\nKonnippadu P.O\\r\\n</td>\n",
       "      <td>3/18/2011</td>\n",
       "      <td>male</td>\n",
       "      <td>669/2</td>\n",
       "      <td>0</td>\n",
       "      <td>...</td>\n",
       "      <td>25.00</td>\n",
       "      <td>2.43</td>\n",
       "      <td>1.82</td>\n",
       "      <td>18.30</td>\n",
       "      <td>1.66</td>\n",
       "      <td>4.20</td>\n",
       "      <td>HCl</td>\n",
       "      <td>HCl</td>\n",
       "      <td>HCl</td>\n",
       "      <td>HCl</td>\n",
       "    </tr>\n",
       "    <tr>\n",
       "      <th>4</th>\n",
       "      <td>Thrissur</td>\n",
       "      <td>Anthikkad Block</td>\n",
       "      <td>Manaloor</td>\n",
       "      <td>TCR/TRS/MNL/918/1/182900</td>\n",
       "      <td>Abhilash</td>\n",
       "      <td>Thottupura house\\r\\n Manaloor post</td>\n",
       "      <td>3/26/2011</td>\n",
       "      <td>male</td>\n",
       "      <td>918/1</td>\n",
       "      <td>0</td>\n",
       "      <td>...</td>\n",
       "      <td>35.60</td>\n",
       "      <td>13.89</td>\n",
       "      <td>1.66</td>\n",
       "      <td>92.90</td>\n",
       "      <td>9.90</td>\n",
       "      <td>21.31</td>\n",
       "      <td>HCl</td>\n",
       "      <td>HCl</td>\n",
       "      <td>HCl</td>\n",
       "      <td>HCl</td>\n",
       "    </tr>\n",
       "  </tbody>\n",
       "</table>\n",
       "<p>5 rows × 40 columns</p>\n",
       "</div>"
      ],
      "text/plain": [
       "   District               Block Panchayath                 SampleCode  \\\n",
       "0  Thrissur     Anthikkad Block   Manaloor   TCR/TRS/MNL/215/3/182896   \n",
       "1  Kottayam   Erattupetta Block   Melukavu  KTM/MNC/MLK/729/11/182897   \n",
       "2    Kollam  Sasthamcotta Block  Kunnathur    KLM/KNT/KNT/60/6/182898   \n",
       "3  Kottayam   Erattupetta Block   Melukavu   KTM/MNC/MLK/669/2/182899   \n",
       "4  Thrissur     Anthikkad Block   Manaloor   TCR/TRS/MNL/918/1/182900   \n",
       "\n",
       "         FarmerName                                     ContactAddress  \\\n",
       "0         sunil.K.A                   kunnath house\\r\\n Manaloor post    \n",
       "1       T.M. Joseph         Valluvadikkal House\\r\\nKizhakkanmattom\\r\\n   \n",
       "2     SUMANGALAAMMA  THENGANAYYATHU\\r\\nIVERKALA PADI NORTH\\r\\nPUTHA...   \n",
       "3  P.V. Georgekutty             Paikadayil House\\r\\nKonnippadu P.O\\r\\n   \n",
       "4          Abhilash                Thottupura house\\r\\n Manaloor post    \n",
       "\n",
       "  f_dateofsampling   f_sex f_surveyno  f_latitude       ...         Soil_s  \\\n",
       "0        3/26/2011    male      215/3           0       ...          34.40   \n",
       "1        3/18/2011    male     729/11           0       ...          25.00   \n",
       "2         4/4/2011  female       60/6           0       ...           0.77   \n",
       "3        3/18/2011    male      669/2           0       ...          25.00   \n",
       "4        3/26/2011    male      918/1           0       ...          35.60   \n",
       "\n",
       "  Soil_Zn  Soil_b  Soil_Fe  Soil_Cu  Soil_Mn  Zinc_Method  Copper_Method  \\\n",
       "0    8.09    0.59    48.20     9.45    21.32          HCl            HCl   \n",
       "1    3.77    1.68    23.60     1.63    14.00          HCl            HCl   \n",
       "2    6.89    0.53     2.99     0.83     6.80          HCl            HCl   \n",
       "3    2.43    1.82    18.30     1.66     4.20          HCl            HCl   \n",
       "4   13.89    1.66    92.90     9.90    21.31          HCl            HCl   \n",
       "\n",
       "   Iron_Method Manganese_Method  \n",
       "0          HCl              HCl  \n",
       "1          HCl              HCl  \n",
       "2          HCl              HCl  \n",
       "3          HCl              HCl  \n",
       "4          HCl              HCl  \n",
       "\n",
       "[5 rows x 40 columns]"
      ]
     },
     "execution_count": 3,
     "metadata": {},
     "output_type": "execute_result"
    }
   ],
   "source": [
    "data.head()"
   ]
  },
  {
   "cell_type": "code",
   "execution_count": 4,
   "metadata": {},
   "outputs": [
    {
     "data": {
      "text/plain": [
       "(2000, 40)"
      ]
     },
     "execution_count": 4,
     "metadata": {},
     "output_type": "execute_result"
    }
   ],
   "source": [
    "data.shape"
   ]
  },
  {
   "cell_type": "code",
   "execution_count": 5,
   "metadata": {},
   "outputs": [
    {
     "name": "stdout",
     "output_type": "stream",
     "text": [
      "<class 'pandas.core.frame.DataFrame'>\n",
      "RangeIndex: 2000 entries, 0 to 1999\n",
      "Data columns (total 40 columns):\n",
      "District            2000 non-null object\n",
      "Block               2000 non-null object\n",
      "Panchayath          2000 non-null object\n",
      "SampleCode          2000 non-null object\n",
      "FarmerName          2000 non-null object\n",
      "ContactAddress      2000 non-null object\n",
      "f_dateofsampling    2000 non-null object\n",
      "f_sex               2000 non-null object\n",
      "f_surveyno          2000 non-null object\n",
      "f_latitude          2000 non-null int64\n",
      "f_longitude         2000 non-null int64\n",
      "f_ownership         2000 non-null object\n",
      "f_ownername         0 non-null float64\n",
      "f_panchayat         2000 non-null int64\n",
      "f_pincode           546 non-null float64\n",
      "f_district          2000 non-null int64\n",
      "f_taluk             2000 non-null int64\n",
      "f_block             2000 non-null int64\n",
      "f_mob_no            387 non-null float64\n",
      "SoilType            2000 non-null object\n",
      "crop1               2000 non-null object\n",
      "crop2               2000 non-null object\n",
      "crop3               2000 non-null object\n",
      "Soil_pH             2000 non-null float64\n",
      "Soil_ec             2000 non-null float64\n",
      "Soil_OrganicC       2000 non-null float64\n",
      "Soil_P              2000 non-null float64\n",
      "Soil_k              2000 non-null float64\n",
      "Soil_Ca             2000 non-null float64\n",
      "Soil_Mg             2000 non-null float64\n",
      "Soil_s              2000 non-null float64\n",
      "Soil_Zn             2000 non-null float64\n",
      "Soil_b              2000 non-null float64\n",
      "Soil_Fe             2000 non-null float64\n",
      "Soil_Cu             2000 non-null float64\n",
      "Soil_Mn             2000 non-null float64\n",
      "Zinc_Method         2000 non-null object\n",
      "Copper_Method       2000 non-null object\n",
      "Iron_Method         2000 non-null object\n",
      "Manganese_Method    2000 non-null object\n",
      "dtypes: float64(16), int64(6), object(18)\n",
      "memory usage: 625.1+ KB\n"
     ]
    }
   ],
   "source": [
    "data.info()"
   ]
  },
  {
   "cell_type": "code",
   "execution_count": 6,
   "metadata": {},
   "outputs": [
    {
     "data": {
      "text/html": [
       "<div>\n",
       "<style scoped>\n",
       "    .dataframe tbody tr th:only-of-type {\n",
       "        vertical-align: middle;\n",
       "    }\n",
       "\n",
       "    .dataframe tbody tr th {\n",
       "        vertical-align: top;\n",
       "    }\n",
       "\n",
       "    .dataframe thead th {\n",
       "        text-align: right;\n",
       "    }\n",
       "</style>\n",
       "<table border=\"1\" class=\"dataframe\">\n",
       "  <thead>\n",
       "    <tr style=\"text-align: right;\">\n",
       "      <th></th>\n",
       "      <th>count</th>\n",
       "      <th>mean</th>\n",
       "      <th>std</th>\n",
       "      <th>min</th>\n",
       "      <th>25%</th>\n",
       "      <th>50%</th>\n",
       "      <th>75%</th>\n",
       "      <th>max</th>\n",
       "    </tr>\n",
       "  </thead>\n",
       "  <tbody>\n",
       "    <tr>\n",
       "      <th>f_latitude</th>\n",
       "      <td>2000.0</td>\n",
       "      <td>0.000000e+00</td>\n",
       "      <td>0.000000e+00</td>\n",
       "      <td>0.00</td>\n",
       "      <td>0.000000e+00</td>\n",
       "      <td>0.000000e+00</td>\n",
       "      <td>0.000000e+00</td>\n",
       "      <td>0.000000e+00</td>\n",
       "    </tr>\n",
       "    <tr>\n",
       "      <th>f_longitude</th>\n",
       "      <td>2000.0</td>\n",
       "      <td>0.000000e+00</td>\n",
       "      <td>0.000000e+00</td>\n",
       "      <td>0.00</td>\n",
       "      <td>0.000000e+00</td>\n",
       "      <td>0.000000e+00</td>\n",
       "      <td>0.000000e+00</td>\n",
       "      <td>0.000000e+00</td>\n",
       "    </tr>\n",
       "    <tr>\n",
       "      <th>f_ownername</th>\n",
       "      <td>0.0</td>\n",
       "      <td>NaN</td>\n",
       "      <td>NaN</td>\n",
       "      <td>NaN</td>\n",
       "      <td>NaN</td>\n",
       "      <td>NaN</td>\n",
       "      <td>NaN</td>\n",
       "      <td>NaN</td>\n",
       "    </tr>\n",
       "    <tr>\n",
       "      <th>f_panchayat</th>\n",
       "      <td>2000.0</td>\n",
       "      <td>4.131210e+02</td>\n",
       "      <td>2.838888e+02</td>\n",
       "      <td>98.00</td>\n",
       "      <td>1.520000e+02</td>\n",
       "      <td>3.370000e+02</td>\n",
       "      <td>5.660000e+02</td>\n",
       "      <td>1.006000e+03</td>\n",
       "    </tr>\n",
       "    <tr>\n",
       "      <th>f_pincode</th>\n",
       "      <td>546.0</td>\n",
       "      <td>6.814229e+05</td>\n",
       "      <td>2.935525e+04</td>\n",
       "      <td>6.00</td>\n",
       "      <td>6.807340e+05</td>\n",
       "      <td>6.807340e+05</td>\n",
       "      <td>6.855010e+05</td>\n",
       "      <td>6.895720e+05</td>\n",
       "    </tr>\n",
       "    <tr>\n",
       "      <th>f_district</th>\n",
       "      <td>2000.0</td>\n",
       "      <td>5.958500e+00</td>\n",
       "      <td>3.620958e+00</td>\n",
       "      <td>2.00</td>\n",
       "      <td>2.000000e+00</td>\n",
       "      <td>5.000000e+00</td>\n",
       "      <td>8.000000e+00</td>\n",
       "      <td>1.300000e+01</td>\n",
       "    </tr>\n",
       "    <tr>\n",
       "      <th>f_taluk</th>\n",
       "      <td>2000.0</td>\n",
       "      <td>2.759500e+01</td>\n",
       "      <td>1.794252e+01</td>\n",
       "      <td>7.00</td>\n",
       "      <td>8.000000e+00</td>\n",
       "      <td>2.300000e+01</td>\n",
       "      <td>4.000000e+01</td>\n",
       "      <td>6.100000e+01</td>\n",
       "    </tr>\n",
       "    <tr>\n",
       "      <th>f_block</th>\n",
       "      <td>2000.0</td>\n",
       "      <td>8.496400e+01</td>\n",
       "      <td>5.729366e+01</td>\n",
       "      <td>20.00</td>\n",
       "      <td>3.000000e+01</td>\n",
       "      <td>6.900000e+01</td>\n",
       "      <td>1.190000e+02</td>\n",
       "      <td>1.980000e+02</td>\n",
       "    </tr>\n",
       "    <tr>\n",
       "      <th>f_mob_no</th>\n",
       "      <td>387.0</td>\n",
       "      <td>9.395787e+09</td>\n",
       "      <td>1.312579e+09</td>\n",
       "      <td>241017.00</td>\n",
       "      <td>9.447146e+09</td>\n",
       "      <td>9.526616e+09</td>\n",
       "      <td>9.846641e+09</td>\n",
       "      <td>9.995965e+09</td>\n",
       "    </tr>\n",
       "    <tr>\n",
       "      <th>Soil_pH</th>\n",
       "      <td>2000.0</td>\n",
       "      <td>5.573874e+00</td>\n",
       "      <td>6.739393e-01</td>\n",
       "      <td>0.60</td>\n",
       "      <td>5.200000e+00</td>\n",
       "      <td>5.600000e+00</td>\n",
       "      <td>6.000000e+00</td>\n",
       "      <td>9.900000e+00</td>\n",
       "    </tr>\n",
       "    <tr>\n",
       "      <th>Soil_ec</th>\n",
       "      <td>2000.0</td>\n",
       "      <td>2.271805e-01</td>\n",
       "      <td>1.003704e+00</td>\n",
       "      <td>0.00</td>\n",
       "      <td>5.000000e-02</td>\n",
       "      <td>1.100000e-01</td>\n",
       "      <td>2.510000e-01</td>\n",
       "      <td>4.100000e+01</td>\n",
       "    </tr>\n",
       "    <tr>\n",
       "      <th>Soil_OrganicC</th>\n",
       "      <td>2000.0</td>\n",
       "      <td>1.206468e+00</td>\n",
       "      <td>1.908592e+00</td>\n",
       "      <td>0.01</td>\n",
       "      <td>6.800000e-01</td>\n",
       "      <td>1.000000e+00</td>\n",
       "      <td>1.500000e+00</td>\n",
       "      <td>7.400000e+01</td>\n",
       "    </tr>\n",
       "    <tr>\n",
       "      <th>Soil_P</th>\n",
       "      <td>2000.0</td>\n",
       "      <td>7.586593e+01</td>\n",
       "      <td>5.740095e+01</td>\n",
       "      <td>0.00</td>\n",
       "      <td>3.500000e+01</td>\n",
       "      <td>6.500000e+01</td>\n",
       "      <td>9.900000e+01</td>\n",
       "      <td>4.720000e+02</td>\n",
       "    </tr>\n",
       "    <tr>\n",
       "      <th>Soil_k</th>\n",
       "      <td>2000.0</td>\n",
       "      <td>2.092379e+02</td>\n",
       "      <td>2.029271e+02</td>\n",
       "      <td>0.70</td>\n",
       "      <td>8.600000e+01</td>\n",
       "      <td>1.870000e+02</td>\n",
       "      <td>2.630000e+02</td>\n",
       "      <td>4.225000e+03</td>\n",
       "    </tr>\n",
       "    <tr>\n",
       "      <th>Soil_Ca</th>\n",
       "      <td>2000.0</td>\n",
       "      <td>3.735709e+02</td>\n",
       "      <td>3.791625e+02</td>\n",
       "      <td>0.41</td>\n",
       "      <td>1.638200e+02</td>\n",
       "      <td>3.171000e+02</td>\n",
       "      <td>4.800000e+02</td>\n",
       "      <td>4.627000e+03</td>\n",
       "    </tr>\n",
       "    <tr>\n",
       "      <th>Soil_Mg</th>\n",
       "      <td>2000.0</td>\n",
       "      <td>5.194280e+01</td>\n",
       "      <td>1.056796e+02</td>\n",
       "      <td>0.20</td>\n",
       "      <td>1.490000e+01</td>\n",
       "      <td>2.450000e+01</td>\n",
       "      <td>5.220000e+01</td>\n",
       "      <td>3.041000e+03</td>\n",
       "    </tr>\n",
       "    <tr>\n",
       "      <th>Soil_s</th>\n",
       "      <td>2000.0</td>\n",
       "      <td>1.155596e+01</td>\n",
       "      <td>1.165314e+01</td>\n",
       "      <td>0.06</td>\n",
       "      <td>2.275000e+00</td>\n",
       "      <td>6.810000e+00</td>\n",
       "      <td>2.310000e+01</td>\n",
       "      <td>9.590000e+01</td>\n",
       "    </tr>\n",
       "    <tr>\n",
       "      <th>Soil_Zn</th>\n",
       "      <td>2000.0</td>\n",
       "      <td>5.680801e+00</td>\n",
       "      <td>6.835201e+00</td>\n",
       "      <td>0.01</td>\n",
       "      <td>1.300000e+00</td>\n",
       "      <td>2.890000e+00</td>\n",
       "      <td>7.032500e+00</td>\n",
       "      <td>8.610000e+01</td>\n",
       "    </tr>\n",
       "    <tr>\n",
       "      <th>Soil_b</th>\n",
       "      <td>2000.0</td>\n",
       "      <td>5.777887e-01</td>\n",
       "      <td>9.166625e-01</td>\n",
       "      <td>0.00</td>\n",
       "      <td>7.750000e-02</td>\n",
       "      <td>5.600000e-01</td>\n",
       "      <td>8.400000e-01</td>\n",
       "      <td>3.400000e+01</td>\n",
       "    </tr>\n",
       "    <tr>\n",
       "      <th>Soil_Fe</th>\n",
       "      <td>2000.0</td>\n",
       "      <td>6.861430e+01</td>\n",
       "      <td>1.283554e+02</td>\n",
       "      <td>0.18</td>\n",
       "      <td>1.390000e+01</td>\n",
       "      <td>2.650000e+01</td>\n",
       "      <td>8.612500e+01</td>\n",
       "      <td>3.807000e+03</td>\n",
       "    </tr>\n",
       "    <tr>\n",
       "      <th>Soil_Cu</th>\n",
       "      <td>2000.0</td>\n",
       "      <td>3.673857e+00</td>\n",
       "      <td>2.685605e+01</td>\n",
       "      <td>0.01</td>\n",
       "      <td>9.700000e-01</td>\n",
       "      <td>2.500000e+00</td>\n",
       "      <td>4.300000e+00</td>\n",
       "      <td>1.097000e+03</td>\n",
       "    </tr>\n",
       "    <tr>\n",
       "      <th>Soil_Mn</th>\n",
       "      <td>2000.0</td>\n",
       "      <td>2.397593e+01</td>\n",
       "      <td>1.870539e+01</td>\n",
       "      <td>0.10</td>\n",
       "      <td>1.090000e+01</td>\n",
       "      <td>1.932500e+01</td>\n",
       "      <td>3.180000e+01</td>\n",
       "      <td>1.332000e+02</td>\n",
       "    </tr>\n",
       "  </tbody>\n",
       "</table>\n",
       "</div>"
      ],
      "text/plain": [
       "                count          mean           std        min           25%  \\\n",
       "f_latitude     2000.0  0.000000e+00  0.000000e+00       0.00  0.000000e+00   \n",
       "f_longitude    2000.0  0.000000e+00  0.000000e+00       0.00  0.000000e+00   \n",
       "f_ownername       0.0           NaN           NaN        NaN           NaN   \n",
       "f_panchayat    2000.0  4.131210e+02  2.838888e+02      98.00  1.520000e+02   \n",
       "f_pincode       546.0  6.814229e+05  2.935525e+04       6.00  6.807340e+05   \n",
       "f_district     2000.0  5.958500e+00  3.620958e+00       2.00  2.000000e+00   \n",
       "f_taluk        2000.0  2.759500e+01  1.794252e+01       7.00  8.000000e+00   \n",
       "f_block        2000.0  8.496400e+01  5.729366e+01      20.00  3.000000e+01   \n",
       "f_mob_no        387.0  9.395787e+09  1.312579e+09  241017.00  9.447146e+09   \n",
       "Soil_pH        2000.0  5.573874e+00  6.739393e-01       0.60  5.200000e+00   \n",
       "Soil_ec        2000.0  2.271805e-01  1.003704e+00       0.00  5.000000e-02   \n",
       "Soil_OrganicC  2000.0  1.206468e+00  1.908592e+00       0.01  6.800000e-01   \n",
       "Soil_P         2000.0  7.586593e+01  5.740095e+01       0.00  3.500000e+01   \n",
       "Soil_k         2000.0  2.092379e+02  2.029271e+02       0.70  8.600000e+01   \n",
       "Soil_Ca        2000.0  3.735709e+02  3.791625e+02       0.41  1.638200e+02   \n",
       "Soil_Mg        2000.0  5.194280e+01  1.056796e+02       0.20  1.490000e+01   \n",
       "Soil_s         2000.0  1.155596e+01  1.165314e+01       0.06  2.275000e+00   \n",
       "Soil_Zn        2000.0  5.680801e+00  6.835201e+00       0.01  1.300000e+00   \n",
       "Soil_b         2000.0  5.777887e-01  9.166625e-01       0.00  7.750000e-02   \n",
       "Soil_Fe        2000.0  6.861430e+01  1.283554e+02       0.18  1.390000e+01   \n",
       "Soil_Cu        2000.0  3.673857e+00  2.685605e+01       0.01  9.700000e-01   \n",
       "Soil_Mn        2000.0  2.397593e+01  1.870539e+01       0.10  1.090000e+01   \n",
       "\n",
       "                        50%           75%           max  \n",
       "f_latitude     0.000000e+00  0.000000e+00  0.000000e+00  \n",
       "f_longitude    0.000000e+00  0.000000e+00  0.000000e+00  \n",
       "f_ownername             NaN           NaN           NaN  \n",
       "f_panchayat    3.370000e+02  5.660000e+02  1.006000e+03  \n",
       "f_pincode      6.807340e+05  6.855010e+05  6.895720e+05  \n",
       "f_district     5.000000e+00  8.000000e+00  1.300000e+01  \n",
       "f_taluk        2.300000e+01  4.000000e+01  6.100000e+01  \n",
       "f_block        6.900000e+01  1.190000e+02  1.980000e+02  \n",
       "f_mob_no       9.526616e+09  9.846641e+09  9.995965e+09  \n",
       "Soil_pH        5.600000e+00  6.000000e+00  9.900000e+00  \n",
       "Soil_ec        1.100000e-01  2.510000e-01  4.100000e+01  \n",
       "Soil_OrganicC  1.000000e+00  1.500000e+00  7.400000e+01  \n",
       "Soil_P         6.500000e+01  9.900000e+01  4.720000e+02  \n",
       "Soil_k         1.870000e+02  2.630000e+02  4.225000e+03  \n",
       "Soil_Ca        3.171000e+02  4.800000e+02  4.627000e+03  \n",
       "Soil_Mg        2.450000e+01  5.220000e+01  3.041000e+03  \n",
       "Soil_s         6.810000e+00  2.310000e+01  9.590000e+01  \n",
       "Soil_Zn        2.890000e+00  7.032500e+00  8.610000e+01  \n",
       "Soil_b         5.600000e-01  8.400000e-01  3.400000e+01  \n",
       "Soil_Fe        2.650000e+01  8.612500e+01  3.807000e+03  \n",
       "Soil_Cu        2.500000e+00  4.300000e+00  1.097000e+03  \n",
       "Soil_Mn        1.932500e+01  3.180000e+01  1.332000e+02  "
      ]
     },
     "execution_count": 6,
     "metadata": {},
     "output_type": "execute_result"
    }
   ],
   "source": [
    "data.describe().T"
   ]
  },
  {
   "cell_type": "code",
   "execution_count": 7,
   "metadata": {},
   "outputs": [
    {
     "data": {
      "text/plain": [
       "Index(['District', 'Block', 'Panchayath', 'SampleCode', 'FarmerName',\n",
       "       'ContactAddress', 'f_dateofsampling', 'f_sex', 'f_surveyno',\n",
       "       'f_latitude', 'f_longitude', 'f_ownership', 'f_ownername',\n",
       "       'f_panchayat', 'f_pincode', 'f_district', 'f_taluk', 'f_block',\n",
       "       'f_mob_no', 'SoilType', 'crop1', 'crop2', 'crop3', 'Soil_pH', 'Soil_ec',\n",
       "       'Soil_OrganicC', 'Soil_P', 'Soil_k', 'Soil_Ca', 'Soil_Mg', 'Soil_s',\n",
       "       'Soil_Zn', 'Soil_b', 'Soil_Fe', 'Soil_Cu', 'Soil_Mn', 'Zinc_Method',\n",
       "       'Copper_Method', 'Iron_Method', 'Manganese_Method'],\n",
       "      dtype='object')"
      ]
     },
     "execution_count": 7,
     "metadata": {},
     "output_type": "execute_result"
    }
   ],
   "source": [
    "data.columns"
   ]
  },
  {
   "cell_type": "code",
   "execution_count": 8,
   "metadata": {},
   "outputs": [],
   "source": [
    "district_count=data['District'].value_counts()"
   ]
  },
  {
   "cell_type": "code",
   "execution_count": 9,
   "metadata": {},
   "outputs": [
    {
     "data": {
      "text/plain": [
       "<matplotlib.axes._subplots.AxesSubplot at 0x114267a58>"
      ]
     },
     "execution_count": 9,
     "metadata": {},
     "output_type": "execute_result"
    },
    {
     "data": {
      "image/png": "[encoded data removed]",
      "text/plain": [
       "<Figure size 432x288 with 1 Axes>"
      ]
     },
     "metadata": {
      "needs_background": "light"
     },
     "output_type": "display_data"
    }
   ],
   "source": [
    "district_count.plot(kind='bar')"
   ]
  },
  {
   "cell_type": "code",
   "execution_count": 10,
   "metadata": {},
   "outputs": [
    {
     "data": {
      "text/plain": [
       "0    2000\n",
       "Name: f_longitude, dtype: int64"
      ]
     },
     "execution_count": 10,
     "metadata": {},
     "output_type": "execute_result"
    }
   ],
   "source": [
    "data['f_longitude'].value_counts()"
   ]
  },
  {
   "cell_type": "code",
   "execution_count": 11,
   "metadata": {},
   "outputs": [
    {
     "data": {
      "text/plain": [
       "6.10    138\n",
       "6.00    136\n",
       "5.40    118\n",
       "5.90    114\n",
       "5.60    110\n",
       "5.30    108\n",
       "5.50     94\n",
       "5.20     90\n",
       "5.80     85\n",
       "5.70     75\n",
       "4.90     55\n",
       "5.00     53\n",
       "5.10     49\n",
       "6.20     46\n",
       "4.60     43\n",
       "6.30     42\n",
       "4.80     42\n",
       "6.40     33\n",
       "4.70     32\n",
       "6.90     27\n",
       "6.60     22\n",
       "6.80     22\n",
       "4.40     19\n",
       "4.50     19\n",
       "7.10     19\n",
       "6.70     15\n",
       "6.50     14\n",
       "4.30     12\n",
       "7.00     10\n",
       "4.20      9\n",
       "       ... \n",
       "4.48      1\n",
       "5.34      1\n",
       "6.01      1\n",
       "5.95      1\n",
       "4.78      1\n",
       "4.86      1\n",
       "3.53      1\n",
       "6.54      1\n",
       "4.04      1\n",
       "5.39      1\n",
       "3.90      1\n",
       "6.16      1\n",
       "6.07      1\n",
       "6.03      1\n",
       "5.72      1\n",
       "4.63      1\n",
       "4.24      1\n",
       "4.81      1\n",
       "4.03      1\n",
       "4.39      1\n",
       "5.62      1\n",
       "6.24      1\n",
       "5.17      1\n",
       "4.44      1\n",
       "4.87      1\n",
       "5.85      1\n",
       "6.15      1\n",
       "5.53      1\n",
       "4.22      1\n",
       "6.49      1\n",
       "Name: Soil_pH, Length: 214, dtype: int64"
      ]
     },
     "execution_count": 11,
     "metadata": {},
     "output_type": "execute_result"
    }
   ],
   "source": [
    "data['Soil_pH'].value_counts()"
   ]
  },
  {
   "cell_type": "code",
   "execution_count": 12,
   "metadata": {},
   "outputs": [
    {
     "data": {
      "text/plain": [
       "<matplotlib.axes._subplots.AxesSubplot at 0x11425bc18>"
      ]
     },
     "execution_count": 12,
     "metadata": {},
     "output_type": "execute_result"
    },
    {
     "data": {
      "image/png": "[encoded data removed]",
      "text/plain": [
       "<Figure size 432x288 with 1 Axes>"
      ]
     },
     "metadata": {
      "needs_background": "light"
     },
     "output_type": "display_data"
    }
   ],
   "source": [
    "sns.distplot(data['Soil_pH'])"
   ]
  },
  {
   "cell_type": "code",
   "execution_count": 13,
   "metadata": {},
   "outputs": [
    {
     "data": {
      "text/html": [
       "<div>\n",
       "<style scoped>\n",
       "    .dataframe tbody tr th:only-of-type {\n",
       "        vertical-align: middle;\n",
       "    }\n",
       "\n",
       "    .dataframe tbody tr th {\n",
       "        vertical-align: top;\n",
       "    }\n",
       "\n",
       "    .dataframe thead th {\n",
       "        text-align: right;\n",
       "    }\n",
       "</style>\n",
       "<table border=\"1\" class=\"dataframe\">\n",
       "  <thead>\n",
       "    <tr style=\"text-align: right;\">\n",
       "      <th></th>\n",
       "      <th>count</th>\n",
       "      <th>unique</th>\n",
       "      <th>top</th>\n",
       "      <th>freq</th>\n",
       "    </tr>\n",
       "  </thead>\n",
       "  <tbody>\n",
       "    <tr>\n",
       "      <th>District</th>\n",
       "      <td>2000</td>\n",
       "      <td>8</td>\n",
       "      <td>Kollam</td>\n",
       "      <td>629</td>\n",
       "    </tr>\n",
       "    <tr>\n",
       "      <th>Block</th>\n",
       "      <td>2000</td>\n",
       "      <td>18</td>\n",
       "      <td>Chadayamangalam Block</td>\n",
       "      <td>311</td>\n",
       "    </tr>\n",
       "    <tr>\n",
       "      <th>Panchayath</th>\n",
       "      <td>2000</td>\n",
       "      <td>21</td>\n",
       "      <td>Kadakkal</td>\n",
       "      <td>310</td>\n",
       "    </tr>\n",
       "    <tr>\n",
       "      <th>SampleCode</th>\n",
       "      <td>2000</td>\n",
       "      <td>1948</td>\n",
       "      <td>KTM/KTM/EMN/461/14/183848</td>\n",
       "      <td>4</td>\n",
       "    </tr>\n",
       "    <tr>\n",
       "      <th>FarmerName</th>\n",
       "      <td>2000</td>\n",
       "      <td>1652</td>\n",
       "      <td>RADHAKRISHNAN</td>\n",
       "      <td>9</td>\n",
       "    </tr>\n",
       "    <tr>\n",
       "      <th>ContactAddress</th>\n",
       "      <td>2000</td>\n",
       "      <td>1722</td>\n",
       "      <td>IDINJUKUZHIYIL HOUSE,KONDAZHY P.O.,THRISSUR\\t\\...</td>\n",
       "      <td>15</td>\n",
       "    </tr>\n",
       "    <tr>\n",
       "      <th>f_dateofsampling</th>\n",
       "      <td>2000</td>\n",
       "      <td>105</td>\n",
       "      <td>8/13/2012</td>\n",
       "      <td>263</td>\n",
       "    </tr>\n",
       "    <tr>\n",
       "      <th>f_sex</th>\n",
       "      <td>2000</td>\n",
       "      <td>2</td>\n",
       "      <td>male</td>\n",
       "      <td>1544</td>\n",
       "    </tr>\n",
       "    <tr>\n",
       "      <th>f_surveyno</th>\n",
       "      <td>2000</td>\n",
       "      <td>1580</td>\n",
       "      <td>1022</td>\n",
       "      <td>29</td>\n",
       "    </tr>\n",
       "    <tr>\n",
       "      <th>f_ownership</th>\n",
       "      <td>2000</td>\n",
       "      <td>1</td>\n",
       "      <td>ownland</td>\n",
       "      <td>2000</td>\n",
       "    </tr>\n",
       "    <tr>\n",
       "      <th>SoilType</th>\n",
       "      <td>2000</td>\n",
       "      <td>4</td>\n",
       "      <td>red/laterite</td>\n",
       "      <td>1204</td>\n",
       "    </tr>\n",
       "    <tr>\n",
       "      <th>crop1</th>\n",
       "      <td>2000</td>\n",
       "      <td>34</td>\n",
       "      <td>Coconut(General)</td>\n",
       "      <td>544</td>\n",
       "    </tr>\n",
       "    <tr>\n",
       "      <th>crop2</th>\n",
       "      <td>2000</td>\n",
       "      <td>29</td>\n",
       "      <td></td>\n",
       "      <td>971</td>\n",
       "    </tr>\n",
       "    <tr>\n",
       "      <th>crop3</th>\n",
       "      <td>2000</td>\n",
       "      <td>26</td>\n",
       "      <td></td>\n",
       "      <td>1541</td>\n",
       "    </tr>\n",
       "    <tr>\n",
       "      <th>Zinc_Method</th>\n",
       "      <td>2000</td>\n",
       "      <td>3</td>\n",
       "      <td>HCl</td>\n",
       "      <td>1978</td>\n",
       "    </tr>\n",
       "    <tr>\n",
       "      <th>Copper_Method</th>\n",
       "      <td>2000</td>\n",
       "      <td>3</td>\n",
       "      <td>HCl</td>\n",
       "      <td>1977</td>\n",
       "    </tr>\n",
       "    <tr>\n",
       "      <th>Iron_Method</th>\n",
       "      <td>2000</td>\n",
       "      <td>3</td>\n",
       "      <td>HCl</td>\n",
       "      <td>1977</td>\n",
       "    </tr>\n",
       "    <tr>\n",
       "      <th>Manganese_Method</th>\n",
       "      <td>2000</td>\n",
       "      <td>3</td>\n",
       "      <td>HCl</td>\n",
       "      <td>1976</td>\n",
       "    </tr>\n",
       "  </tbody>\n",
       "</table>\n",
       "</div>"
      ],
      "text/plain": [
       "                 count unique  \\\n",
       "District          2000      8   \n",
       "Block             2000     18   \n",
       "Panchayath        2000     21   \n",
       "SampleCode        2000   1948   \n",
       "FarmerName        2000   1652   \n",
       "ContactAddress    2000   1722   \n",
       "f_dateofsampling  2000    105   \n",
       "f_sex             2000      2   \n",
       "f_surveyno        2000   1580   \n",
       "f_ownership       2000      1   \n",
       "SoilType          2000      4   \n",
       "crop1             2000     34   \n",
       "crop2             2000     29   \n",
       "crop3             2000     26   \n",
       "Zinc_Method       2000      3   \n",
       "Copper_Method     2000      3   \n",
       "Iron_Method       2000      3   \n",
       "Manganese_Method  2000      3   \n",
       "\n",
       "                                                                top  freq  \n",
       "District                                                     Kollam   629  \n",
       "Block                                         Chadayamangalam Block   311  \n",
       "Panchayath                                                 Kadakkal   310  \n",
       "SampleCode                                KTM/KTM/EMN/461/14/183848     4  \n",
       "FarmerName                                            RADHAKRISHNAN     9  \n",
       "ContactAddress    IDINJUKUZHIYIL HOUSE,KONDAZHY P.O.,THRISSUR\\t\\...    15  \n",
       "f_dateofsampling                                          8/13/2012   263  \n",
       "f_sex                                                          male  1544  \n",
       "f_surveyno                                                     1022    29  \n",
       "f_ownership                                                 ownland  2000  \n",
       "SoilType                                              red/laterite   1204  \n",
       "crop1                                              Coconut(General)   544  \n",
       "crop2                                                                 971  \n",
       "crop3                                                                1541  \n",
       "Zinc_Method                                                     HCl  1978  \n",
       "Copper_Method                                                   HCl  1977  \n",
       "Iron_Method                                                     HCl  1977  \n",
       "Manganese_Method                                                HCl  1976  "
      ]
     },
     "execution_count": 13,
     "metadata": {},
     "output_type": "execute_result"
    }
   ],
   "source": [
    "data.describe(include='object').T"
   ]
  },
  {
   "cell_type": "code",
   "execution_count": 14,
   "metadata": {},
   "outputs": [],
   "source": [
    "numeric=data.describe(include='number').T"
   ]
  },
  {
   "cell_type": "code",
   "execution_count": 15,
   "metadata": {},
   "outputs": [],
   "source": [
    "numeric_cols=numeric.index"
   ]
  },
  {
   "cell_type": "code",
   "execution_count": 16,
   "metadata": {},
   "outputs": [
    {
     "name": "stdout",
     "output_type": "stream",
     "text": [
      "<class 'pandas.core.frame.DataFrame'>\n",
      "RangeIndex: 2000 entries, 0 to 1999\n",
      "Data columns (total 13 columns):\n",
      "Soil_pH          2000 non-null float64\n",
      "Soil_ec          2000 non-null float64\n",
      "Soil_OrganicC    2000 non-null float64\n",
      "Soil_P           2000 non-null float64\n",
      "Soil_k           2000 non-null float64\n",
      "Soil_Ca          2000 non-null float64\n",
      "Soil_Mg          2000 non-null float64\n",
      "Soil_s           2000 non-null float64\n",
      "Soil_Zn          2000 non-null float64\n",
      "Soil_b           2000 non-null float64\n",
      "Soil_Fe          2000 non-null float64\n",
      "Soil_Cu          2000 non-null float64\n",
      "Soil_Mn          2000 non-null float64\n",
      "dtypes: float64(13)\n",
      "memory usage: 203.2 KB\n"
     ]
    }
   ],
   "source": [
    "data[numeric_cols[9:]].info()"
   ]
  },
  {
   "cell_type": "code",
   "execution_count": 17,
   "metadata": {},
   "outputs": [
    {
     "data": {
      "text/plain": [
       "<seaborn.axisgrid.PairGrid at 0x1153734e0>"
      ]
     },
     "execution_count": 17,
     "metadata": {},
     "output_type": "execute_result"
    },
    {
     "data": {
      "text/plain": [
       "<Figure size 1080x720 with 0 Axes>"
      ]
     },
     "metadata": {},
     "output_type": "display_data"
    },
    {
     "data": {
      "image/png": "[encoded data removed]",
      "text/plain": [
       "<Figure size 540x540 with 12 Axes>"
      ]
     },
     "metadata": {
      "needs_background": "light"
     },
     "output_type": "display_data"
    }
   ],
   "source": [
    "plt.figure(figsize=(15,10))\n",
    "sns.pairplot(data[numeric_cols[9:12]])"
   ]
  },
  {
   "cell_type": "code",
   "execution_count": 18,
   "metadata": {},
   "outputs": [
    {
     "data": {
      "text/plain": [
       "<seaborn.axisgrid.PairGrid at 0x11575a518>"
      ]
     },
     "execution_count": 18,
     "metadata": {},
     "output_type": "execute_result"
    },
    {
     "data": {
      "text/plain": [
       "<Figure size 1080x720 with 0 Axes>"
      ]
     },
     "metadata": {},
     "output_type": "display_data"
    },
    {
     "data": {
      "image/png": "[encoded data removed]",
      "text/plain": [
       "<Figure size 540x540 with 12 Axes>"
      ]
     },
     "metadata": {
      "needs_background": "light"
     },
     "output_type": "display_data"
    }
   ],
   "source": [
    "plt.figure(figsize=(15,10))\n",
    "sns.pairplot(data[numeric_cols[12:15]])"
   ]
  },
  {
   "cell_type": "code",
   "execution_count": 19,
   "metadata": {},
   "outputs": [
    {
     "data": {
      "text/plain": [
       "<matplotlib.axes._subplots.AxesSubplot at 0x115d37ef0>"
      ]
     },
     "execution_count": 19,
     "metadata": {},
     "output_type": "execute_result"
    },
    {
     "data": {
      "image/png": "[encoded data removed]",
      "text/plain": [
       "<Figure size 432x288 with 2 Axes>"
      ]
     },
     "metadata": {
      "needs_background": "light"
     },
     "output_type": "display_data"
    }
   ],
   "source": [
    "sns.heatmap(data[numeric_cols[12:15]].corr())"
   ]
  },
  {
   "cell_type": "markdown",
   "metadata": {},
   "source": [
    "### Calcium and Potassium has no correlation"
   ]
  },
  {
   "cell_type": "code",
   "execution_count": 20,
   "metadata": {},
   "outputs": [
    {
     "data": {
      "text/plain": [
       "<matplotlib.axes._subplots.AxesSubplot at 0x11611f1d0>"
      ]
     },
     "execution_count": 20,
     "metadata": {},
     "output_type": "execute_result"
    },
    {
     "data": {
      "image/png": "[encoded data removed]",
      "text/plain": [
       "<Figure size 432x288 with 2 Axes>"
      ]
     },
     "metadata": {
      "needs_background": "light"
     },
     "output_type": "display_data"
    }
   ],
   "source": [
    "sns.heatmap(data[numeric_cols[9:]].corr())"
   ]
  },
  {
   "cell_type": "markdown",
   "metadata": {},
   "source": [
    "### Magnesium and Calcium has high correlation\n"
   ]
  },
  {
   "cell_type": "markdown",
   "metadata": {},
   "source": [
    "### Zinc and Manganese has some good correlation"
   ]
  },
  {
   "cell_type": "code",
   "execution_count": 21,
   "metadata": {},
   "outputs": [
    {
     "data": {
      "text/html": [
       "<div>\n",
       "<style scoped>\n",
       "    .dataframe tbody tr th:only-of-type {\n",
       "        vertical-align: middle;\n",
       "    }\n",
       "\n",
       "    .dataframe tbody tr th {\n",
       "        vertical-align: top;\n",
       "    }\n",
       "\n",
       "    .dataframe thead th {\n",
       "        text-align: right;\n",
       "    }\n",
       "</style>\n",
       "<table border=\"1\" class=\"dataframe\">\n",
       "  <thead>\n",
       "    <tr style=\"text-align: right;\">\n",
       "      <th></th>\n",
       "      <th>Soil_pH</th>\n",
       "      <th>Soil_ec</th>\n",
       "      <th>Soil_OrganicC</th>\n",
       "      <th>Soil_P</th>\n",
       "      <th>Soil_k</th>\n",
       "      <th>Soil_Ca</th>\n",
       "      <th>Soil_Mg</th>\n",
       "      <th>Soil_s</th>\n",
       "      <th>Soil_Zn</th>\n",
       "      <th>Soil_b</th>\n",
       "      <th>Soil_Fe</th>\n",
       "      <th>Soil_Cu</th>\n",
       "      <th>Soil_Mn</th>\n",
       "    </tr>\n",
       "  </thead>\n",
       "  <tbody>\n",
       "    <tr>\n",
       "      <th>Soil_pH</th>\n",
       "      <td>1.000000</td>\n",
       "      <td>-0.041099</td>\n",
       "      <td>-0.040040</td>\n",
       "      <td>0.110243</td>\n",
       "      <td>0.080835</td>\n",
       "      <td>-0.088752</td>\n",
       "      <td>-0.079977</td>\n",
       "      <td>-0.247470</td>\n",
       "      <td>-0.058806</td>\n",
       "      <td>0.125631</td>\n",
       "      <td>-0.209284</td>\n",
       "      <td>-0.011606</td>\n",
       "      <td>-0.008996</td>\n",
       "    </tr>\n",
       "    <tr>\n",
       "      <th>Soil_ec</th>\n",
       "      <td>-0.041099</td>\n",
       "      <td>1.000000</td>\n",
       "      <td>0.019283</td>\n",
       "      <td>0.058843</td>\n",
       "      <td>0.087627</td>\n",
       "      <td>0.011408</td>\n",
       "      <td>-0.022114</td>\n",
       "      <td>0.077850</td>\n",
       "      <td>0.045265</td>\n",
       "      <td>0.014845</td>\n",
       "      <td>0.000158</td>\n",
       "      <td>0.003512</td>\n",
       "      <td>-0.009420</td>\n",
       "    </tr>\n",
       "    <tr>\n",
       "      <th>Soil_OrganicC</th>\n",
       "      <td>-0.040040</td>\n",
       "      <td>0.019283</td>\n",
       "      <td>1.000000</td>\n",
       "      <td>0.011772</td>\n",
       "      <td>0.084583</td>\n",
       "      <td>0.067331</td>\n",
       "      <td>0.030329</td>\n",
       "      <td>0.060189</td>\n",
       "      <td>0.074889</td>\n",
       "      <td>-0.010777</td>\n",
       "      <td>0.025125</td>\n",
       "      <td>0.023127</td>\n",
       "      <td>0.097970</td>\n",
       "    </tr>\n",
       "    <tr>\n",
       "      <th>Soil_P</th>\n",
       "      <td>0.110243</td>\n",
       "      <td>0.058843</td>\n",
       "      <td>0.011772</td>\n",
       "      <td>1.000000</td>\n",
       "      <td>0.188587</td>\n",
       "      <td>0.077406</td>\n",
       "      <td>-0.094849</td>\n",
       "      <td>0.208337</td>\n",
       "      <td>0.235760</td>\n",
       "      <td>0.006145</td>\n",
       "      <td>0.080587</td>\n",
       "      <td>0.088038</td>\n",
       "      <td>0.116561</td>\n",
       "    </tr>\n",
       "    <tr>\n",
       "      <th>Soil_k</th>\n",
       "      <td>0.080835</td>\n",
       "      <td>0.087627</td>\n",
       "      <td>0.084583</td>\n",
       "      <td>0.188587</td>\n",
       "      <td>1.000000</td>\n",
       "      <td>0.205576</td>\n",
       "      <td>0.095251</td>\n",
       "      <td>0.333836</td>\n",
       "      <td>-0.063121</td>\n",
       "      <td>0.068679</td>\n",
       "      <td>-0.041138</td>\n",
       "      <td>0.040702</td>\n",
       "      <td>0.086578</td>\n",
       "    </tr>\n",
       "    <tr>\n",
       "      <th>Soil_Ca</th>\n",
       "      <td>-0.088752</td>\n",
       "      <td>0.011408</td>\n",
       "      <td>0.067331</td>\n",
       "      <td>0.077406</td>\n",
       "      <td>0.205576</td>\n",
       "      <td>1.000000</td>\n",
       "      <td>0.594428</td>\n",
       "      <td>0.274117</td>\n",
       "      <td>0.069585</td>\n",
       "      <td>-0.110374</td>\n",
       "      <td>0.055878</td>\n",
       "      <td>0.044579</td>\n",
       "      <td>0.194116</td>\n",
       "    </tr>\n",
       "    <tr>\n",
       "      <th>Soil_Mg</th>\n",
       "      <td>-0.079977</td>\n",
       "      <td>-0.022114</td>\n",
       "      <td>0.030329</td>\n",
       "      <td>-0.094849</td>\n",
       "      <td>0.095251</td>\n",
       "      <td>0.594428</td>\n",
       "      <td>1.000000</td>\n",
       "      <td>0.060127</td>\n",
       "      <td>-0.082800</td>\n",
       "      <td>-0.104326</td>\n",
       "      <td>0.000038</td>\n",
       "      <td>0.001140</td>\n",
       "      <td>0.096632</td>\n",
       "    </tr>\n",
       "    <tr>\n",
       "      <th>Soil_s</th>\n",
       "      <td>-0.247470</td>\n",
       "      <td>0.077850</td>\n",
       "      <td>0.060189</td>\n",
       "      <td>0.208337</td>\n",
       "      <td>0.333836</td>\n",
       "      <td>0.274117</td>\n",
       "      <td>0.060127</td>\n",
       "      <td>1.000000</td>\n",
       "      <td>0.048581</td>\n",
       "      <td>-0.004791</td>\n",
       "      <td>0.107789</td>\n",
       "      <td>0.063190</td>\n",
       "      <td>0.066894</td>\n",
       "    </tr>\n",
       "    <tr>\n",
       "      <th>Soil_Zn</th>\n",
       "      <td>-0.058806</td>\n",
       "      <td>0.045265</td>\n",
       "      <td>0.074889</td>\n",
       "      <td>0.235760</td>\n",
       "      <td>-0.063121</td>\n",
       "      <td>0.069585</td>\n",
       "      <td>-0.082800</td>\n",
       "      <td>0.048581</td>\n",
       "      <td>1.000000</td>\n",
       "      <td>-0.108823</td>\n",
       "      <td>0.233078</td>\n",
       "      <td>0.066287</td>\n",
       "      <td>0.434956</td>\n",
       "    </tr>\n",
       "    <tr>\n",
       "      <th>Soil_b</th>\n",
       "      <td>0.125631</td>\n",
       "      <td>0.014845</td>\n",
       "      <td>-0.010777</td>\n",
       "      <td>0.006145</td>\n",
       "      <td>0.068679</td>\n",
       "      <td>-0.110374</td>\n",
       "      <td>-0.104326</td>\n",
       "      <td>-0.004791</td>\n",
       "      <td>-0.108823</td>\n",
       "      <td>1.000000</td>\n",
       "      <td>-0.111557</td>\n",
       "      <td>-0.017032</td>\n",
       "      <td>-0.089931</td>\n",
       "    </tr>\n",
       "    <tr>\n",
       "      <th>Soil_Fe</th>\n",
       "      <td>-0.209284</td>\n",
       "      <td>0.000158</td>\n",
       "      <td>0.025125</td>\n",
       "      <td>0.080587</td>\n",
       "      <td>-0.041138</td>\n",
       "      <td>0.055878</td>\n",
       "      <td>0.000038</td>\n",
       "      <td>0.107789</td>\n",
       "      <td>0.233078</td>\n",
       "      <td>-0.111557</td>\n",
       "      <td>1.000000</td>\n",
       "      <td>0.015504</td>\n",
       "      <td>0.120040</td>\n",
       "    </tr>\n",
       "    <tr>\n",
       "      <th>Soil_Cu</th>\n",
       "      <td>-0.011606</td>\n",
       "      <td>0.003512</td>\n",
       "      <td>0.023127</td>\n",
       "      <td>0.088038</td>\n",
       "      <td>0.040702</td>\n",
       "      <td>0.044579</td>\n",
       "      <td>0.001140</td>\n",
       "      <td>0.063190</td>\n",
       "      <td>0.066287</td>\n",
       "      <td>-0.017032</td>\n",
       "      <td>0.015504</td>\n",
       "      <td>1.000000</td>\n",
       "      <td>0.045882</td>\n",
       "    </tr>\n",
       "    <tr>\n",
       "      <th>Soil_Mn</th>\n",
       "      <td>-0.008996</td>\n",
       "      <td>-0.009420</td>\n",
       "      <td>0.097970</td>\n",
       "      <td>0.116561</td>\n",
       "      <td>0.086578</td>\n",
       "      <td>0.194116</td>\n",
       "      <td>0.096632</td>\n",
       "      <td>0.066894</td>\n",
       "      <td>0.434956</td>\n",
       "      <td>-0.089931</td>\n",
       "      <td>0.120040</td>\n",
       "      <td>0.045882</td>\n",
       "      <td>1.000000</td>\n",
       "    </tr>\n",
       "  </tbody>\n",
       "</table>\n",
       "</div>"
      ],
      "text/plain": [
       "                Soil_pH   Soil_ec  Soil_OrganicC    Soil_P    Soil_k  \\\n",
       "Soil_pH        1.000000 -0.041099      -0.040040  0.110243  0.080835   \n",
       "Soil_ec       -0.041099  1.000000       0.019283  0.058843  0.087627   \n",
       "Soil_OrganicC -0.040040  0.019283       1.000000  0.011772  0.084583   \n",
       "Soil_P         0.110243  0.058843       0.011772  1.000000  0.188587   \n",
       "Soil_k         0.080835  0.087627       0.084583  0.188587  1.000000   \n",
       "Soil_Ca       -0.088752  0.011408       0.067331  0.077406  0.205576   \n",
       "Soil_Mg       -0.079977 -0.022114       0.030329 -0.094849  0.095251   \n",
       "Soil_s        -0.247470  0.077850       0.060189  0.208337  0.333836   \n",
       "Soil_Zn       -0.058806  0.045265       0.074889  0.235760 -0.063121   \n",
       "Soil_b         0.125631  0.014845      -0.010777  0.006145  0.068679   \n",
       "Soil_Fe       -0.209284  0.000158       0.025125  0.080587 -0.041138   \n",
       "Soil_Cu       -0.011606  0.003512       0.023127  0.088038  0.040702   \n",
       "Soil_Mn       -0.008996 -0.009420       0.097970  0.116561  0.086578   \n",
       "\n",
       "                Soil_Ca   Soil_Mg    Soil_s   Soil_Zn    Soil_b   Soil_Fe  \\\n",
       "Soil_pH       -0.088752 -0.079977 -0.247470 -0.058806  0.125631 -0.209284   \n",
       "Soil_ec        0.011408 -0.022114  0.077850  0.045265  0.014845  0.000158   \n",
       "Soil_OrganicC  0.067331  0.030329  0.060189  0.074889 -0.010777  0.025125   \n",
       "Soil_P         0.077406 -0.094849  0.208337  0.235760  0.006145  0.080587   \n",
       "Soil_k         0.205576  0.095251  0.333836 -0.063121  0.068679 -0.041138   \n",
       "Soil_Ca        1.000000  0.594428  0.274117  0.069585 -0.110374  0.055878   \n",
       "Soil_Mg        0.594428  1.000000  0.060127 -0.082800 -0.104326  0.000038   \n",
       "Soil_s         0.274117  0.060127  1.000000  0.048581 -0.004791  0.107789   \n",
       "Soil_Zn        0.069585 -0.082800  0.048581  1.000000 -0.108823  0.233078   \n",
       "Soil_b        -0.110374 -0.104326 -0.004791 -0.108823  1.000000 -0.111557   \n",
       "Soil_Fe        0.055878  0.000038  0.107789  0.233078 -0.111557  1.000000   \n",
       "Soil_Cu        0.044579  0.001140  0.063190  0.066287 -0.017032  0.015504   \n",
       "Soil_Mn        0.194116  0.096632  0.066894  0.434956 -0.089931  0.120040   \n",
       "\n",
       "                Soil_Cu   Soil_Mn  \n",
       "Soil_pH       -0.011606 -0.008996  \n",
       "Soil_ec        0.003512 -0.009420  \n",
       "Soil_OrganicC  0.023127  0.097970  \n",
       "Soil_P         0.088038  0.116561  \n",
       "Soil_k         0.040702  0.086578  \n",
       "Soil_Ca        0.044579  0.194116  \n",
       "Soil_Mg        0.001140  0.096632  \n",
       "Soil_s         0.063190  0.066894  \n",
       "Soil_Zn        0.066287  0.434956  \n",
       "Soil_b        -0.017032 -0.089931  \n",
       "Soil_Fe        0.015504  0.120040  \n",
       "Soil_Cu        1.000000  0.045882  \n",
       "Soil_Mn        0.045882  1.000000  "
      ]
     },
     "execution_count": 21,
     "metadata": {},
     "output_type": "execute_result"
    }
   ],
   "source": [
    "data[numeric_cols[9:]].corr()"
   ]
  },
  {
   "cell_type": "code",
   "execution_count": 22,
   "metadata": {},
   "outputs": [],
   "source": [
    "p=data[numeric_cols[9:]].corr()"
   ]
  },
  {
   "cell_type": "code",
   "execution_count": 23,
   "metadata": {},
   "outputs": [
    {
     "data": {
      "text/plain": [
       "Index(['Soil_pH', 'Soil_ec', 'Soil_OrganicC', 'Soil_P', 'Soil_k', 'Soil_Ca',\n",
       "       'Soil_Mg', 'Soil_s', 'Soil_Zn', 'Soil_b', 'Soil_Fe', 'Soil_Cu',\n",
       "       'Soil_Mn'],\n",
       "      dtype='object')"
      ]
     },
     "execution_count": 23,
     "metadata": {},
     "output_type": "execute_result"
    }
   ],
   "source": [
    "p.columns"
   ]
  },
  {
   "cell_type": "code",
   "execution_count": 24,
   "metadata": {},
   "outputs": [],
   "source": [
    "q=p.reset_index(0)"
   ]
  },
  {
   "cell_type": "code",
   "execution_count": 25,
   "metadata": {},
   "outputs": [
    {
     "data": {
      "text/html": [
       "<div>\n",
       "<style scoped>\n",
       "    .dataframe tbody tr th:only-of-type {\n",
       "        vertical-align: middle;\n",
       "    }\n",
       "\n",
       "    .dataframe tbody tr th {\n",
       "        vertical-align: top;\n",
       "    }\n",
       "\n",
       "    .dataframe thead th {\n",
       "        text-align: right;\n",
       "    }\n",
       "</style>\n",
       "<table border=\"1\" class=\"dataframe\">\n",
       "  <thead>\n",
       "    <tr style=\"text-align: right;\">\n",
       "      <th></th>\n",
       "      <th>index</th>\n",
       "      <th>Soil_pH</th>\n",
       "      <th>Soil_ec</th>\n",
       "      <th>Soil_OrganicC</th>\n",
       "      <th>Soil_P</th>\n",
       "      <th>Soil_k</th>\n",
       "      <th>Soil_Ca</th>\n",
       "      <th>Soil_Mg</th>\n",
       "      <th>Soil_s</th>\n",
       "      <th>Soil_Zn</th>\n",
       "      <th>Soil_b</th>\n",
       "      <th>Soil_Fe</th>\n",
       "      <th>Soil_Cu</th>\n",
       "      <th>Soil_Mn</th>\n",
       "    </tr>\n",
       "  </thead>\n",
       "  <tbody>\n",
       "    <tr>\n",
       "      <th>0</th>\n",
       "      <td>Soil_pH</td>\n",
       "      <td>1.000000</td>\n",
       "      <td>-0.041099</td>\n",
       "      <td>-0.040040</td>\n",
       "      <td>0.110243</td>\n",
       "      <td>0.080835</td>\n",
       "      <td>-0.088752</td>\n",
       "      <td>-0.079977</td>\n",
       "      <td>-0.247470</td>\n",
       "      <td>-0.058806</td>\n",
       "      <td>0.125631</td>\n",
       "      <td>-0.209284</td>\n",
       "      <td>-0.011606</td>\n",
       "      <td>-0.008996</td>\n",
       "    </tr>\n",
       "    <tr>\n",
       "      <th>1</th>\n",
       "      <td>Soil_ec</td>\n",
       "      <td>-0.041099</td>\n",
       "      <td>1.000000</td>\n",
       "      <td>0.019283</td>\n",
       "      <td>0.058843</td>\n",
       "      <td>0.087627</td>\n",
       "      <td>0.011408</td>\n",
       "      <td>-0.022114</td>\n",
       "      <td>0.077850</td>\n",
       "      <td>0.045265</td>\n",
       "      <td>0.014845</td>\n",
       "      <td>0.000158</td>\n",
       "      <td>0.003512</td>\n",
       "      <td>-0.009420</td>\n",
       "    </tr>\n",
       "    <tr>\n",
       "      <th>2</th>\n",
       "      <td>Soil_OrganicC</td>\n",
       "      <td>-0.040040</td>\n",
       "      <td>0.019283</td>\n",
       "      <td>1.000000</td>\n",
       "      <td>0.011772</td>\n",
       "      <td>0.084583</td>\n",
       "      <td>0.067331</td>\n",
       "      <td>0.030329</td>\n",
       "      <td>0.060189</td>\n",
       "      <td>0.074889</td>\n",
       "      <td>-0.010777</td>\n",
       "      <td>0.025125</td>\n",
       "      <td>0.023127</td>\n",
       "      <td>0.097970</td>\n",
       "    </tr>\n",
       "    <tr>\n",
       "      <th>3</th>\n",
       "      <td>Soil_P</td>\n",
       "      <td>0.110243</td>\n",
       "      <td>0.058843</td>\n",
       "      <td>0.011772</td>\n",
       "      <td>1.000000</td>\n",
       "      <td>0.188587</td>\n",
       "      <td>0.077406</td>\n",
       "      <td>-0.094849</td>\n",
       "      <td>0.208337</td>\n",
       "      <td>0.235760</td>\n",
       "      <td>0.006145</td>\n",
       "      <td>0.080587</td>\n",
       "      <td>0.088038</td>\n",
       "      <td>0.116561</td>\n",
       "    </tr>\n",
       "    <tr>\n",
       "      <th>4</th>\n",
       "      <td>Soil_k</td>\n",
       "      <td>0.080835</td>\n",
       "      <td>0.087627</td>\n",
       "      <td>0.084583</td>\n",
       "      <td>0.188587</td>\n",
       "      <td>1.000000</td>\n",
       "      <td>0.205576</td>\n",
       "      <td>0.095251</td>\n",
       "      <td>0.333836</td>\n",
       "      <td>-0.063121</td>\n",
       "      <td>0.068679</td>\n",
       "      <td>-0.041138</td>\n",
       "      <td>0.040702</td>\n",
       "      <td>0.086578</td>\n",
       "    </tr>\n",
       "    <tr>\n",
       "      <th>5</th>\n",
       "      <td>Soil_Ca</td>\n",
       "      <td>-0.088752</td>\n",
       "      <td>0.011408</td>\n",
       "      <td>0.067331</td>\n",
       "      <td>0.077406</td>\n",
       "      <td>0.205576</td>\n",
       "      <td>1.000000</td>\n",
       "      <td>0.594428</td>\n",
       "      <td>0.274117</td>\n",
       "      <td>0.069585</td>\n",
       "      <td>-0.110374</td>\n",
       "      <td>0.055878</td>\n",
       "      <td>0.044579</td>\n",
       "      <td>0.194116</td>\n",
       "    </tr>\n",
       "    <tr>\n",
       "      <th>6</th>\n",
       "      <td>Soil_Mg</td>\n",
       "      <td>-0.079977</td>\n",
       "      <td>-0.022114</td>\n",
       "      <td>0.030329</td>\n",
       "      <td>-0.094849</td>\n",
       "      <td>0.095251</td>\n",
       "      <td>0.594428</td>\n",
       "      <td>1.000000</td>\n",
       "      <td>0.060127</td>\n",
       "      <td>-0.082800</td>\n",
       "      <td>-0.104326</td>\n",
       "      <td>0.000038</td>\n",
       "      <td>0.001140</td>\n",
       "      <td>0.096632</td>\n",
       "    </tr>\n",
       "    <tr>\n",
       "      <th>7</th>\n",
       "      <td>Soil_s</td>\n",
       "      <td>-0.247470</td>\n",
       "      <td>0.077850</td>\n",
       "      <td>0.060189</td>\n",
       "      <td>0.208337</td>\n",
       "      <td>0.333836</td>\n",
       "      <td>0.274117</td>\n",
       "      <td>0.060127</td>\n",
       "      <td>1.000000</td>\n",
       "      <td>0.048581</td>\n",
       "      <td>-0.004791</td>\n",
       "      <td>0.107789</td>\n",
       "      <td>0.063190</td>\n",
       "      <td>0.066894</td>\n",
       "    </tr>\n",
       "    <tr>\n",
       "      <th>8</th>\n",
       "      <td>Soil_Zn</td>\n",
       "      <td>-0.058806</td>\n",
       "      <td>0.045265</td>\n",
       "      <td>0.074889</td>\n",
       "      <td>0.235760</td>\n",
       "      <td>-0.063121</td>\n",
       "      <td>0.069585</td>\n",
       "      <td>-0.082800</td>\n",
       "      <td>0.048581</td>\n",
       "      <td>1.000000</td>\n",
       "      <td>-0.108823</td>\n",
       "      <td>0.233078</td>\n",
       "      <td>0.066287</td>\n",
       "      <td>0.434956</td>\n",
       "    </tr>\n",
       "    <tr>\n",
       "      <th>9</th>\n",
       "      <td>Soil_b</td>\n",
       "      <td>0.125631</td>\n",
       "      <td>0.014845</td>\n",
       "      <td>-0.010777</td>\n",
       "      <td>0.006145</td>\n",
       "      <td>0.068679</td>\n",
       "      <td>-0.110374</td>\n",
       "      <td>-0.104326</td>\n",
       "      <td>-0.004791</td>\n",
       "      <td>-0.108823</td>\n",
       "      <td>1.000000</td>\n",
       "      <td>-0.111557</td>\n",
       "      <td>-0.017032</td>\n",
       "      <td>-0.089931</td>\n",
       "    </tr>\n",
       "    <tr>\n",
       "      <th>10</th>\n",
       "      <td>Soil_Fe</td>\n",
       "      <td>-0.209284</td>\n",
       "      <td>0.000158</td>\n",
       "      <td>0.025125</td>\n",
       "      <td>0.080587</td>\n",
       "      <td>-0.041138</td>\n",
       "      <td>0.055878</td>\n",
       "      <td>0.000038</td>\n",
       "      <td>0.107789</td>\n",
       "      <td>0.233078</td>\n",
       "      <td>-0.111557</td>\n",
       "      <td>1.000000</td>\n",
       "      <td>0.015504</td>\n",
       "      <td>0.120040</td>\n",
       "    </tr>\n",
       "    <tr>\n",
       "      <th>11</th>\n",
       "      <td>Soil_Cu</td>\n",
       "      <td>-0.011606</td>\n",
       "      <td>0.003512</td>\n",
       "      <td>0.023127</td>\n",
       "      <td>0.088038</td>\n",
       "      <td>0.040702</td>\n",
       "      <td>0.044579</td>\n",
       "      <td>0.001140</td>\n",
       "      <td>0.063190</td>\n",
       "      <td>0.066287</td>\n",
       "      <td>-0.017032</td>\n",
       "      <td>0.015504</td>\n",
       "      <td>1.000000</td>\n",
       "      <td>0.045882</td>\n",
       "    </tr>\n",
       "    <tr>\n",
       "      <th>12</th>\n",
       "      <td>Soil_Mn</td>\n",
       "      <td>-0.008996</td>\n",
       "      <td>-0.009420</td>\n",
       "      <td>0.097970</td>\n",
       "      <td>0.116561</td>\n",
       "      <td>0.086578</td>\n",
       "      <td>0.194116</td>\n",
       "      <td>0.096632</td>\n",
       "      <td>0.066894</td>\n",
       "      <td>0.434956</td>\n",
       "      <td>-0.089931</td>\n",
       "      <td>0.120040</td>\n",
       "      <td>0.045882</td>\n",
       "      <td>1.000000</td>\n",
       "    </tr>\n",
       "  </tbody>\n",
       "</table>\n",
       "</div>"
      ],
      "text/plain": [
       "            index   Soil_pH   Soil_ec  Soil_OrganicC    Soil_P    Soil_k  \\\n",
       "0         Soil_pH  1.000000 -0.041099      -0.040040  0.110243  0.080835   \n",
       "1         Soil_ec -0.041099  1.000000       0.019283  0.058843  0.087627   \n",
       "2   Soil_OrganicC -0.040040  0.019283       1.000000  0.011772  0.084583   \n",
       "3          Soil_P  0.110243  0.058843       0.011772  1.000000  0.188587   \n",
       "4          Soil_k  0.080835  0.087627       0.084583  0.188587  1.000000   \n",
       "5         Soil_Ca -0.088752  0.011408       0.067331  0.077406  0.205576   \n",
       "6         Soil_Mg -0.079977 -0.022114       0.030329 -0.094849  0.095251   \n",
       "7          Soil_s -0.247470  0.077850       0.060189  0.208337  0.333836   \n",
       "8         Soil_Zn -0.058806  0.045265       0.074889  0.235760 -0.063121   \n",
       "9          Soil_b  0.125631  0.014845      -0.010777  0.006145  0.068679   \n",
       "10        Soil_Fe -0.209284  0.000158       0.025125  0.080587 -0.041138   \n",
       "11        Soil_Cu -0.011606  0.003512       0.023127  0.088038  0.040702   \n",
       "12        Soil_Mn -0.008996 -0.009420       0.097970  0.116561  0.086578   \n",
       "\n",
       "     Soil_Ca   Soil_Mg    Soil_s   Soil_Zn    Soil_b   Soil_Fe   Soil_Cu  \\\n",
       "0  -0.088752 -0.079977 -0.247470 -0.058806  0.125631 -0.209284 -0.011606   \n",
       "1   0.011408 -0.022114  0.077850  0.045265  0.014845  0.000158  0.003512   \n",
       "2   0.067331  0.030329  0.060189  0.074889 -0.010777  0.025125  0.023127   \n",
       "3   0.077406 -0.094849  0.208337  0.235760  0.006145  0.080587  0.088038   \n",
       "4   0.205576  0.095251  0.333836 -0.063121  0.068679 -0.041138  0.040702   \n",
       "5   1.000000  0.594428  0.274117  0.069585 -0.110374  0.055878  0.044579   \n",
       "6   0.594428  1.000000  0.060127 -0.082800 -0.104326  0.000038  0.001140   \n",
       "7   0.274117  0.060127  1.000000  0.048581 -0.004791  0.107789  0.063190   \n",
       "8   0.069585 -0.082800  0.048581  1.000000 -0.108823  0.233078  0.066287   \n",
       "9  -0.110374 -0.104326 -0.004791 -0.108823  1.000000 -0.111557 -0.017032   \n",
       "10  0.055878  0.000038  0.107789  0.233078 -0.111557  1.000000  0.015504   \n",
       "11  0.044579  0.001140  0.063190  0.066287 -0.017032  0.015504  1.000000   \n",
       "12  0.194116  0.096632  0.066894  0.434956 -0.089931  0.120040  0.045882   \n",
       "\n",
       "     Soil_Mn  \n",
       "0  -0.008996  \n",
       "1  -0.009420  \n",
       "2   0.097970  \n",
       "3   0.116561  \n",
       "4   0.086578  \n",
       "5   0.194116  \n",
       "6   0.096632  \n",
       "7   0.066894  \n",
       "8   0.434956  \n",
       "9  -0.089931  \n",
       "10  0.120040  \n",
       "11  0.045882  \n",
       "12  1.000000  "
      ]
     },
     "execution_count": 25,
     "metadata": {},
     "output_type": "execute_result"
    }
   ],
   "source": [
    "q"
   ]
  },
  {
   "cell_type": "code",
   "execution_count": 26,
   "metadata": {},
   "outputs": [
    {
     "data": {
      "text/plain": [
       "<matplotlib.collections.PathCollection at 0x11627d940>"
      ]
     },
     "execution_count": 26,
     "metadata": {},
     "output_type": "execute_result"
    },
    {
     "data": {
      "image/png": "[encoded data removed]",
      "text/plain": [
       "<Figure size 432x288 with 1 Axes>"
      ]
     },
     "metadata": {
      "needs_background": "light"
     },
     "output_type": "display_data"
    }
   ],
   "source": [
    "plt.scatter(x='Soil_pH',y='Soil_Ca',data=data)"
   ]
  },
  {
   "cell_type": "code",
   "execution_count": 27,
   "metadata": {},
   "outputs": [],
   "source": [
    "soil_cols=numeric_cols[9:]"
   ]
  },
  {
   "cell_type": "code",
   "execution_count": 28,
   "metadata": {},
   "outputs": [],
   "source": [
    "district_mean=data.groupby(['District'])[soil_cols].mean()"
   ]
  },
  {
   "cell_type": "code",
   "execution_count": 29,
   "metadata": {},
   "outputs": [
    {
     "data": {
      "text/plain": [
       "<matplotlib.axes._subplots.AxesSubplot at 0x1162aa550>"
      ]
     },
     "execution_count": 29,
     "metadata": {},
     "output_type": "execute_result"
    },
    {
     "data": {
      "image/png": "[encoded data removed]",
      "text/plain": [
       "<Figure size 432x288 with 2 Axes>"
      ]
     },
     "metadata": {
      "needs_background": "light"
     },
     "output_type": "display_data"
    }
   ],
   "source": [
    "sns.heatmap(district_mean)"
   ]
  },
  {
   "cell_type": "markdown",
   "metadata": {},
   "source": [
    "### In Ernakulam district, content of Calcium in soil is very high\n"
   ]
  },
  {
   "cell_type": "markdown",
   "metadata": {},
   "source": [
    "### In Kozhikode Content of calcium is good"
   ]
  },
  {
   "cell_type": "code",
   "execution_count": 30,
   "metadata": {},
   "outputs": [
    {
     "data": {
      "text/plain": [
       "Index(['f_latitude', 'f_longitude', 'f_ownername', 'f_panchayat', 'f_pincode',\n",
       "       'f_district', 'f_taluk', 'f_block', 'f_mob_no', 'Soil_pH', 'Soil_ec',\n",
       "       'Soil_OrganicC', 'Soil_P', 'Soil_k', 'Soil_Ca', 'Soil_Mg', 'Soil_s',\n",
       "       'Soil_Zn', 'Soil_b', 'Soil_Fe', 'Soil_Cu', 'Soil_Mn'],\n",
       "      dtype='object')"
      ]
     },
     "execution_count": 30,
     "metadata": {},
     "output_type": "execute_result"
    }
   ],
   "source": [
    "numeric_cols"
   ]
  },
  {
   "cell_type": "code",
   "execution_count": 31,
   "metadata": {},
   "outputs": [
    {
     "data": {
      "text/plain": [
       "<matplotlib.axes._subplots.AxesSubplot at 0x1163d1748>"
      ]
     },
     "execution_count": 31,
     "metadata": {},
     "output_type": "execute_result"
    },
    {
     "data": {
      "image/png": "[encoded data removed]",
      "text/plain": [
       "<Figure size 432x288 with 1 Axes>"
      ]
     },
     "metadata": {
      "needs_background": "light"
     },
     "output_type": "display_data"
    }
   ],
   "source": [
    "data['f_panchayat'].plot(kind='hist')"
   ]
  },
  {
   "cell_type": "code",
   "execution_count": 32,
   "metadata": {},
   "outputs": [
    {
     "data": {
      "text/plain": [
       "<matplotlib.axes._subplots.AxesSubplot at 0x1164cb518>"
      ]
     },
     "execution_count": 32,
     "metadata": {},
     "output_type": "execute_result"
    },
    {
     "data": {
      "image/png": "[encoded data removed]",
      "text/plain": [
       "<Figure size 432x288 with 1 Axes>"
      ]
     },
     "metadata": {
      "needs_background": "light"
     },
     "output_type": "display_data"
    }
   ],
   "source": [
    "data['Soil_OrganicC'].plot(kind='hist')"
   ]
  },
  {
   "cell_type": "code",
   "execution_count": 33,
   "metadata": {},
   "outputs": [
    {
     "data": {
      "text/plain": [
       "<matplotlib.axes._subplots.AxesSubplot at 0x1163a0da0>"
      ]
     },
     "execution_count": 33,
     "metadata": {},
     "output_type": "execute_result"
    },
    {
     "data": {
      "image/png": "[encoded data removed]",
      "text/plain": [
       "<Figure size 432x288 with 1 Axes>"
      ]
     },
     "metadata": {
      "needs_background": "light"
     },
     "output_type": "display_data"
    }
   ],
   "source": [
    "data['Soil_P'].plot(kind='hist')"
   ]
  },
  {
   "cell_type": "code",
   "execution_count": 34,
   "metadata": {},
   "outputs": [
    {
     "data": {
      "text/plain": [
       "Text(0.5, 1.0, 'ph in different districts')"
      ]
     },
     "execution_count": 34,
     "metadata": {},
     "output_type": "execute_result"
    },
    {
     "data": {
      "image/png": "[encoded data removed]",
      "text/plain": [
       "<Figure size 1080x720 with 1 Axes>"
      ]
     },
     "metadata": {
      "needs_background": "light"
     },
     "output_type": "display_data"
    }
   ],
   "source": [
    "plt.figure(figsize=(15,10))\n",
    "sns.boxplot(x='District',y='Soil_pH',data=data)\n",
    "plt.title(\"ph in different districts\")"
   ]
  },
  {
   "cell_type": "markdown",
   "metadata": {},
   "source": [
    "### In thrissur and Kottayam ph of soil is acidic in nature"
   ]
  },
  {
   "cell_type": "markdown",
   "metadata": {},
   "source": [
    "### In kozhikode ph is basic in nature"
   ]
  },
  {
   "cell_type": "code",
   "execution_count": 35,
   "metadata": {},
   "outputs": [
    {
     "data": {
      "text/plain": [
       "Text(0.5, 1.0, 'Calcium in different districts')"
      ]
     },
     "execution_count": 35,
     "metadata": {},
     "output_type": "execute_result"
    },
    {
     "data": {
      "image/png": "[encoded data removed]",
      "text/plain": [
       "<Figure size 1080x720 with 1 Axes>"
      ]
     },
     "metadata": {
      "needs_background": "light"
     },
     "output_type": "display_data"
    }
   ],
   "source": [
    "plt.figure(figsize=(15,10))\n",
    "sns.boxplot(x='District',y='Soil_Ca',data=data)\n",
    "plt.title(\"Calcium in different districts\")"
   ]
  },
  {
   "cell_type": "code",
   "execution_count": 36,
   "metadata": {},
   "outputs": [],
   "source": [
    "crop_cols=['crop1', 'crop2', 'crop3']"
   ]
  },
  {
   "cell_type": "code",
   "execution_count": 37,
   "metadata": {},
   "outputs": [
    {
     "data": {
      "text/plain": [
       "Text(0, 0.5, 'percentage')"
      ]
     },
     "execution_count": 37,
     "metadata": {},
     "output_type": "execute_result"
    },
    {
     "data": {
      "image/png": "[encoded data removed]",
      "text/plain": [
       "<Figure size 1080x720 with 1 Axes>"
      ]
     },
     "metadata": {
      "needs_background": "light"
     },
     "output_type": "display_data"
    }
   ],
   "source": [
    "plt.figure(figsize=(15,10))\n",
    "data['crop1'].value_counts(normalize=True).plot(kind='bar')\n",
    "plt.ylabel('percentage')"
   ]
  },
  {
   "cell_type": "markdown",
   "metadata": {},
   "source": [
    "### Cocunut is top crop in kerala\n"
   ]
  },
  {
   "cell_type": "code",
   "execution_count": 38,
   "metadata": {},
   "outputs": [],
   "source": [
    "crop2_count=data['crop2'].value_counts()"
   ]
  },
  {
   "cell_type": "code",
   "execution_count": 39,
   "metadata": {},
   "outputs": [
    {
     "data": {
      "text/plain": [
       "<matplotlib.axes._subplots.AxesSubplot at 0x1168ea320>"
      ]
     },
     "execution_count": 39,
     "metadata": {},
     "output_type": "execute_result"
    },
    {
     "data": {
      "image/png": "[encoded data removed]",
      "text/plain": [
       "<Figure size 432x288 with 1 Axes>"
      ]
     },
     "metadata": {
      "needs_background": "light"
     },
     "output_type": "display_data"
    }
   ],
   "source": [
    "crop2_count.plot(kind='bar')"
   ]
  },
  {
   "cell_type": "code",
   "execution_count": 40,
   "metadata": {},
   "outputs": [],
   "source": [
    "crop3_count=data['crop3'].value_counts()"
   ]
  },
  {
   "cell_type": "code",
   "execution_count": 58,
   "metadata": {},
   "outputs": [
    {
     "data": {
      "text/plain": [
       "<matplotlib.axes._subplots.AxesSubplot at 0x1a2a0272b0>"
      ]
     },
     "execution_count": 58,
     "metadata": {},
     "output_type": "execute_result"
    },
    {
     "data": {
      "image/png": "[encoded data removed]",
      "text/plain": [
       "<Figure size 432x288 with 1 Axes>"
      ]
     },
     "metadata": {
      "needs_background": "light"
     },
     "output_type": "display_data"
    }
   ],
   "source": [
    "crop3_count.plot(kind='bar')"
   ]
  },
  {
   "cell_type": "markdown",
   "metadata": {},
   "source": [
    "### ANOVA"
   ]
  },
  {
   "cell_type": "code",
   "execution_count": 42,
   "metadata": {},
   "outputs": [],
   "source": [
    "from scipy import stats"
   ]
  },
  {
   "cell_type": "code",
   "execution_count": 43,
   "metadata": {},
   "outputs": [],
   "source": [
    "district_ph=data[['District','Soil_pH']]"
   ]
  },
  {
   "cell_type": "code",
   "execution_count": 45,
   "metadata": {},
   "outputs": [
    {
     "data": {
      "text/html": [
       "<div>\n",
       "<style scoped>\n",
       "    .dataframe tbody tr th:only-of-type {\n",
       "        vertical-align: middle;\n",
       "    }\n",
       "\n",
       "    .dataframe tbody tr th {\n",
       "        vertical-align: top;\n",
       "    }\n",
       "\n",
       "    .dataframe thead th {\n",
       "        text-align: right;\n",
       "    }\n",
       "</style>\n",
       "<table border=\"1\" class=\"dataframe\">\n",
       "  <thead>\n",
       "    <tr style=\"text-align: right;\">\n",
       "      <th></th>\n",
       "      <th>District</th>\n",
       "      <th>Soil_pH</th>\n",
       "    </tr>\n",
       "  </thead>\n",
       "  <tbody>\n",
       "    <tr>\n",
       "      <th>0</th>\n",
       "      <td>Thrissur</td>\n",
       "      <td>6.7</td>\n",
       "    </tr>\n",
       "    <tr>\n",
       "      <th>1</th>\n",
       "      <td>Kottayam</td>\n",
       "      <td>4.3</td>\n",
       "    </tr>\n",
       "    <tr>\n",
       "      <th>2</th>\n",
       "      <td>Kollam</td>\n",
       "      <td>6.1</td>\n",
       "    </tr>\n",
       "    <tr>\n",
       "      <th>3</th>\n",
       "      <td>Kottayam</td>\n",
       "      <td>4.4</td>\n",
       "    </tr>\n",
       "    <tr>\n",
       "      <th>4</th>\n",
       "      <td>Thrissur</td>\n",
       "      <td>6.3</td>\n",
       "    </tr>\n",
       "  </tbody>\n",
       "</table>\n",
       "</div>"
      ],
      "text/plain": [
       "   District  Soil_pH\n",
       "0  Thrissur      6.7\n",
       "1  Kottayam      4.3\n",
       "2    Kollam      6.1\n",
       "3  Kottayam      4.4\n",
       "4  Thrissur      6.3"
      ]
     },
     "execution_count": 45,
     "metadata": {},
     "output_type": "execute_result"
    }
   ],
   "source": [
    "district_ph.head()"
   ]
  },
  {
   "cell_type": "markdown",
   "metadata": {},
   "source": [
    "### PH OF SOIL IN DISTRICTS"
   ]
  },
  {
   "cell_type": "code",
   "execution_count": 46,
   "metadata": {},
   "outputs": [
    {
     "data": {
      "text/plain": [
       "<matplotlib.axes._subplots.AxesSubplot at 0x1a222687f0>"
      ]
     },
     "execution_count": 46,
     "metadata": {},
     "output_type": "execute_result"
    },
    {
     "data": {
      "image/png": "[encoded data removed]",
      "text/plain": [
       "<Figure size 432x288 with 1 Axes>"
      ]
     },
     "metadata": {
      "needs_background": "light"
     },
     "output_type": "display_data"
    }
   ],
   "source": [
    "district_ph.groupby('District')['Soil_pH'].mean().plot(kind='bar')"
   ]
  },
  {
   "cell_type": "code",
   "execution_count": 47,
   "metadata": {},
   "outputs": [],
   "source": [
    "group_ph=district_ph.groupby('District')"
   ]
  },
  {
   "cell_type": "code",
   "execution_count": 48,
   "metadata": {},
   "outputs": [
    {
     "data": {
      "text/plain": [
       "<pandas.core.groupby.groupby.DataFrameGroupBy object at 0x1a22390470>"
      ]
     },
     "execution_count": 48,
     "metadata": {},
     "output_type": "execute_result"
    }
   ],
   "source": [
    "group_ph"
   ]
  },
  {
   "cell_type": "code",
   "execution_count": 49,
   "metadata": {},
   "outputs": [
    {
     "data": {
      "text/plain": [
       "Int64Index([ 108,  109,  115,  119,  273,  274,  275,  276,  278,  279,  306,\n",
       "             307,  338,  341,  344,  346,  347,  468,  469,  470,  471,  472,\n",
       "             473,  474,  475,  476,  477,  478, 1183, 1185, 1277, 1292, 1297,\n",
       "            1303, 1308, 1314, 1328, 1338, 1339, 1346, 1350, 1356, 1359, 1360,\n",
       "            1365, 1373, 1376, 1421, 1422, 1428, 1430, 1434, 1437, 1440, 1441,\n",
       "            1463, 1464, 1466, 1467, 1665, 1666, 1667, 1670, 1674, 1679, 1682,\n",
       "            1686, 1691, 1692, 1694, 1695, 1696, 1697, 1698, 1699, 1700, 1701,\n",
       "            1702, 1703, 1704, 1705, 1706, 1707, 1708, 1710, 1714, 1715, 1717,\n",
       "            1718, 1803, 1806],\n",
       "           dtype='int64')"
      ]
     },
     "execution_count": 49,
     "metadata": {},
     "output_type": "execute_result"
    }
   ],
   "source": [
    "group_ph.groups['Alappuzha']"
   ]
  },
  {
   "cell_type": "code",
   "execution_count": 51,
   "metadata": {},
   "outputs": [
    {
     "data": {
      "text/plain": [
       "Int64Index([   0,    4,    6,    9,   10,   11,   13,   15,   18,   23,\n",
       "            ...\n",
       "            1958, 1970, 1971, 1972, 1975, 1979, 1984, 1988, 1992, 1998],\n",
       "           dtype='int64', length=513)"
      ]
     },
     "execution_count": 51,
     "metadata": {},
     "output_type": "execute_result"
    }
   ],
   "source": [
    "group_ph.groups['Thrissur']"
   ]
  },
  {
   "cell_type": "markdown",
   "metadata": {},
   "source": [
    "### ONE WAY ANOVA TECHNIQUE"
   ]
  },
  {
   "cell_type": "code",
   "execution_count": 52,
   "metadata": {},
   "outputs": [
    {
     "data": {
      "text/plain": [
       "F_onewayResult(statistic=114.13127661362887, pvalue=5.604370845690677e-141)"
      ]
     },
     "execution_count": 52,
     "metadata": {},
     "output_type": "execute_result"
    }
   ],
   "source": [
    "stats.f_oneway(group_ph.groups['Alappuzha'],\n",
    "               group_ph.groups['Ernakulam'],\n",
    "               group_ph.groups['Idukki'],\n",
    "              group_ph.groups['Kannur'],group_ph.groups['Kollam'],group_ph.groups['Kottayam'],\n",
    "             group_ph.groups['Kozhikkode'],group_ph.groups['Thrissur'])"
   ]
  },
  {
   "cell_type": "markdown",
   "metadata": {},
   "source": [
    "### as p value<0.05 we can reject null hypothesis which says ph in all district is same."
   ]
  },
  {
   "cell_type": "code",
   "execution_count": 57,
   "metadata": {},
   "outputs": [],
   "source": [
    "district_ca=data[['District','Soil_Ca']]"
   ]
  },
  {
   "cell_type": "code",
   "execution_count": 59,
   "metadata": {},
   "outputs": [
    {
     "data": {
      "text/html": [
       "<div>\n",
       "<style scoped>\n",
       "    .dataframe tbody tr th:only-of-type {\n",
       "        vertical-align: middle;\n",
       "    }\n",
       "\n",
       "    .dataframe tbody tr th {\n",
       "        vertical-align: top;\n",
       "    }\n",
       "\n",
       "    .dataframe thead th {\n",
       "        text-align: right;\n",
       "    }\n",
       "</style>\n",
       "<table border=\"1\" class=\"dataframe\">\n",
       "  <thead>\n",
       "    <tr style=\"text-align: right;\">\n",
       "      <th></th>\n",
       "      <th>District</th>\n",
       "      <th>Soil_Ca</th>\n",
       "    </tr>\n",
       "  </thead>\n",
       "  <tbody>\n",
       "    <tr>\n",
       "      <th>0</th>\n",
       "      <td>Thrissur</td>\n",
       "      <td>913.8</td>\n",
       "    </tr>\n",
       "    <tr>\n",
       "      <th>1</th>\n",
       "      <td>Kottayam</td>\n",
       "      <td>131.1</td>\n",
       "    </tr>\n",
       "    <tr>\n",
       "      <th>2</th>\n",
       "      <td>Kollam</td>\n",
       "      <td>321.2</td>\n",
       "    </tr>\n",
       "    <tr>\n",
       "      <th>3</th>\n",
       "      <td>Kottayam</td>\n",
       "      <td>131.1</td>\n",
       "    </tr>\n",
       "    <tr>\n",
       "      <th>4</th>\n",
       "      <td>Thrissur</td>\n",
       "      <td>814.8</td>\n",
       "    </tr>\n",
       "  </tbody>\n",
       "</table>\n",
       "</div>"
      ],
      "text/plain": [
       "   District  Soil_Ca\n",
       "0  Thrissur    913.8\n",
       "1  Kottayam    131.1\n",
       "2    Kollam    321.2\n",
       "3  Kottayam    131.1\n",
       "4  Thrissur    814.8"
      ]
     },
     "execution_count": 59,
     "metadata": {},
     "output_type": "execute_result"
    }
   ],
   "source": [
    "district_ca.head()"
   ]
  },
  {
   "cell_type": "markdown",
   "metadata": {},
   "source": [
    "### CALCIUM CONTENT IN DISTRICTS"
   ]
  },
  {
   "cell_type": "code",
   "execution_count": 63,
   "metadata": {},
   "outputs": [
    {
     "data": {
      "text/plain": [
       "<matplotlib.axes._subplots.AxesSubplot at 0x1a23766f98>"
      ]
     },
     "execution_count": 63,
     "metadata": {},
     "output_type": "execute_result"
    },
    {
     "data": {
      "image/png": "[encoded data removed]",
      "text/plain": [
       "<Figure size 432x288 with 1 Axes>"
      ]
     },
     "metadata": {},
     "output_type": "display_data"
    }
   ],
   "source": [
    "district_ca.groupby('District')['Soil_Ca'].mean().plot(kind='pie')"
   ]
  },
  {
   "cell_type": "code",
   "execution_count": 68,
   "metadata": {},
   "outputs": [],
   "source": [
    "group_ca=district_ca.groupby('District')"
   ]
  },
  {
   "cell_type": "code",
   "execution_count": 69,
   "metadata": {},
   "outputs": [
    {
     "data": {
      "text/plain": [
       "F_onewayResult(statistic=114.13127661362887, pvalue=5.604370845690677e-141)"
      ]
     },
     "execution_count": 69,
     "metadata": {},
     "output_type": "execute_result"
    }
   ],
   "source": [
    "stats.f_oneway(group_ca.groups['Alappuzha'],\n",
    "               group_ca.groups['Ernakulam'],\n",
    "               group_ca.groups['Idukki'],\n",
    "              group_ca.groups['Kannur'],group_ca.groups['Kollam'],group_ca.groups['Kottayam'],\n",
    "             group_ca.groups['Kozhikkode'],group_ca.groups['Thrissur'])"
   ]
  },
  {
   "cell_type": "markdown",
   "metadata": {},
   "source": [
    "### as p value<0.05 we can reject null hypothesis which says calcium content in all district is same."
   ]
  },
  {
   "cell_type": "markdown",
   "metadata": {},
   "source": [
    "### MULTIPLE COMPARISONS USING TUKEY HSD"
   ]
  },
  {
   "cell_type": "code",
   "execution_count": 53,
   "metadata": {},
   "outputs": [],
   "source": [
    "from statsmodels.stats.multicomp import (pairwise_tukeyhsd,MultiComparison)"
   ]
  },
  {
   "cell_type": "code",
   "execution_count": 66,
   "metadata": {},
   "outputs": [],
   "source": [
    "Multi_ph = MultiComparison(district_ph['Soil_pH'],district_ph['District'])"
   ]
  },
  {
   "cell_type": "code",
   "execution_count": 67,
   "metadata": {},
   "outputs": [
    {
     "name": "stdout",
     "output_type": "stream",
     "text": [
      "  Multiple Comparison of Means - Tukey HSD,FWER=0.05 \n",
      "=====================================================\n",
      "  group1     group2   meandiff  lower   upper  reject\n",
      "-----------------------------------------------------\n",
      "Alappuzha  Ernakulam   0.1643  -0.2174  0.5459 False \n",
      "Alappuzha    Idukki   -0.0714  -0.3197  0.1768 False \n",
      "Alappuzha    Kannur    0.1027  -0.1113  0.3167 False \n",
      "Alappuzha    Kollam    0.6383   0.4402  0.8363  True \n",
      "Alappuzha   Kottayam  -0.0386  -0.2464  0.1691 False \n",
      "Alappuzha  Kozhikkode  1.0679   0.0316  2.1042  True \n",
      "Alappuzha   Thrissur  -0.1919  -0.3928  0.009  False \n",
      "Ernakulam    Idukki   -0.2357  -0.6082  0.1368 False \n",
      "Ernakulam    Kannur   -0.0616  -0.4121  0.289  False \n",
      "Ernakulam    Kollam    0.474    0.1329  0.8151  True \n",
      "Ernakulam   Kottayam  -0.2029  -0.5497  0.1439 False \n",
      "Ernakulam  Kozhikkode  0.9037  -0.1692  1.9766 False \n",
      "Ernakulam   Thrissur  -0.3561  -0.6989 -0.0134  True \n",
      "  Idukki     Kannur    0.1741   -0.023  0.3713 False \n",
      "  Idukki     Kollam    0.7097   0.5299  0.8895  True \n",
      "  Idukki    Kottayam   0.0328  -0.1575  0.2232 False \n",
      "  Idukki   Kozhikkode  1.1394   0.1064  2.1723  True \n",
      "  Idukki    Thrissur  -0.1204  -0.3033  0.0624 False \n",
      "  Kannur     Kollam    0.5356   0.4072  0.6639  True \n",
      "  Kannur    Kottayam  -0.1413  -0.2841  0.0015 False \n",
      "  Kannur   Kozhikkode  0.9653   -0.06   1.9905 False \n",
      "  Kannur    Thrissur  -0.2946  -0.4272  -0.162  True \n",
      "  Kollam    Kottayam  -0.6769  -0.7945 -0.5592  True \n",
      "  Kollam   Kozhikkode  0.4297  -0.5924  1.4517 False \n",
      "  Kollam    Thrissur  -0.8302  -0.9352 -0.7251  True \n",
      " Kottayam  Kozhikkode  1.1066   0.0826  2.1305  True \n",
      " Kottayam   Thrissur  -0.1533  -0.2756 -0.0309  True \n",
      "Kozhikkode  Thrissur  -1.2598  -2.2824 -0.2372  True \n",
      "-----------------------------------------------------\n"
     ]
    }
   ],
   "source": [
    "print(Multi_ph.tukeyhsd().summary())"
   ]
  },
  {
   "cell_type": "code",
   "execution_count": 72,
   "metadata": {},
   "outputs": [],
   "source": [
    "Multi_ca = MultiComparison(district_ca['Soil_Ca'],district_ca['District'])"
   ]
  },
  {
   "cell_type": "code",
   "execution_count": 73,
   "metadata": {},
   "outputs": [
    {
     "name": "stdout",
     "output_type": "stream",
     "text": [
      "      Multiple Comparison of Means - Tukey HSD,FWER=0.05     \n",
      "=============================================================\n",
      "  group1     group2    meandiff    lower      upper    reject\n",
      "-------------------------------------------------------------\n",
      "Alappuzha  Ernakulam  2515.4541  2390.4295  2640.4787   True \n",
      "Alappuzha    Idukki    61.7018    -19.6234   143.0271  False \n",
      "Alappuzha    Kannur    -22.5474   -92.6397   47.5449   False \n",
      "Alappuzha    Kollam   -173.2006  -238.0853   -108.316   True \n",
      "Alappuzha   Kottayam   134.6811   66.6263    202.7358   True \n",
      "Alappuzha  Kozhikkode  182.3886  -157.0836   521.8608  False \n",
      "Alappuzha   Thrissur   183.9228   118.1175   249.728    True \n",
      "Ernakulam    Idukki   -2453.7523 -2575.7733 -2331.7314  True \n",
      "Ernakulam    Kannur   -2538.0015 -2652.8416 -2423.1614  True \n",
      "Ernakulam    Kollam   -2688.6548 -2800.3925 -2576.917   True \n",
      "Ernakulam   Kottayam  -2380.773  -2494.381  -2267.1651  True \n",
      "Ernakulam  Kozhikkode -2333.0655 -2684.5149 -1981.6161  True \n",
      "Ernakulam   Thrissur  -2331.5314 -2443.8062 -2219.2565  True \n",
      "  Idukki     Kannur    -84.2492  -148.8317   -19.6667   True \n",
      "  Idukki     Kollam   -234.9024   -293.792  -176.0129   True \n",
      "  Idukki    Kottayam   72.9793    10.6141    135.3445   True \n",
      "  Idukki   Kozhikkode  120.6868  -217.6907   459.0644  False \n",
      "  Idukki    Thrissur   122.221    62.3185    182.1234   True \n",
      "  Kannur     Kollam   -150.6532  -192.6903  -108.6161   True \n",
      "  Kannur    Kottayam   157.2285   110.4465   204.0105   True \n",
      "  Kannur   Kozhikkode  204.936   -130.9188   540.7909  False \n",
      "  Kannur    Thrissur   206.4702   163.0255   249.9148   True \n",
      "  Kollam    Kottayam   307.8817   269.3378   346.4256   True \n",
      "  Kollam   Kozhikkode  355.5893   20.7825    690.396    True \n",
      "  Kollam    Thrissur   357.1234   322.7066   391.5402   True \n",
      " Kottayam  Kozhikkode  47.7076    -287.728   383.1431  False \n",
      " Kottayam   Thrissur   49.2417     9.1673     89.316    True \n",
      "Kozhikkode  Thrissur    1.5341   -333.4523   336.5205  False \n",
      "-------------------------------------------------------------\n"
     ]
    }
   ],
   "source": [
    "print(Multi_ca.tukeyhsd().summary())"
   ]
  },
  {
   "cell_type": "code",
   "execution_count": null,
   "metadata": {},
   "outputs": [],
   "source": []
  }
 ],
 "metadata": {
  "kernelspec": {
   "display_name": "Python 3",
   "language": "python",
   "name": "python3"
  },
  "language_info": {
   "codemirror_mode": {
    "name": "ipython",
    "version": 3
   },
   "file_extension": ".py",
   "mimetype": "text/x-python",
   "name": "python",
   "nbconvert_exporter": "python",
   "pygments_lexer": "ipython3",
   "version": "3.7.1"
  }
 },
 "nbformat": 4,
 "nbformat_minor": 2
}
